{
 "cells": [
  {
   "cell_type": "markdown",
   "metadata": {},
   "source": [
    "**If you lost points on the last checkpoint you can get them back by responding to TA/IA feedback**  \n",
    "\n",
    "Update/change the relevant sections where you lost those points, make sure you respond on GitHub Issues to your TA/IA to call their attention to the changes you made here.\n",
    "\n",
    "Please update your Timeline... no battle plan survives contact with the enemy, so make sure we understand how your plans have changed."
   ]
  },
  {
   "cell_type": "markdown",
   "metadata": {},
   "source": [
    "# COGS 108 - EDA Checkpoint"
   ]
  },
  {
   "cell_type": "markdown",
   "metadata": {},
   "source": [
    "# Names\n",
    "\n",
    "- Nessa Pantfoerder\n",
    "- Lillian Ho\n",
    "- Chi Cheng\n",
    "- Romir Kant\n",
    "- Xiangjun Fu"
   ]
  },
  {
   "cell_type": "markdown",
   "metadata": {},
   "source": [
    "# Research Question"
   ]
  },
  {
   "cell_type": "markdown",
   "metadata": {},
   "source": [
    "Is there a relationship between demographic characteristics, such as education level, work class, occupation, and marital status, and an individual's likelihood of earning an annual income over $50,000 in the United States? What specific factors have the greatest impact on one's earnings?\n",
    "\n",
    "We start with the premise that educational attainment plays a significant role, anticipating that individuals with higher education levels tend to earn more, suggesting a positive correlation.\n",
    "\n",
    "For work class, our focus narrows to the two predominant groups in our dataset: private sector and government employees. Here, we hypothesize that those in the private sector generally outearn their government counterparts.\n",
    "\n",
    "Occupation-wise, we divide our dataset into clerical and non-clerical roles, with an underlying assumption that clerical, or office-based, workers have higher average incomes compared to those in blue-collar jobs.\n",
    "\n",
    "Additionally, marital status is considered a potential influencer, where we speculate that individuals who are, or have been, married are more likely to have an income exceeding $50,000 annually than their single peers.\n",
    "\n"
   ]
  },
  {
   "cell_type": "markdown",
   "metadata": {},
   "source": [
    "## Background and Prior Work"
   ]
  },
  {
   "cell_type": "markdown",
   "metadata": {},
   "source": [
    "Income equality is a critical issue in society, impacting the quality of life and well-being of many individuals. Various factors, such as education level, occupation, gender, and marital status can contribute to these differences in income. For instance, in 2022, individuals with doctoral and professional degrees earned three times more per week than those with less than a high school diploma.<a name=\"cite_ref-1\"></a>[<sup>1</sup>](#cite_note-1) Occupation type also plays a pivotal role, with some roles offering higher salaries than others.<a name=\"cite_ref-2\"></a>[<sup>2</sup>](#cite_note-2) Gender has been shown to play a factor in pay. In 2022, a Pew Research study found that American women were found to earn 82 cents for every dollar earned by American men.<a name=\"cite_ref-3\"></a>[<sup>3</sup>](#cite_note-3) It is essential to better understand what these factors are to impose policies to counter this inequality. \n",
    "\n",
    "Research in this field has explored the relationship between various demographic characteristics and income levels. Christopher Tamborini, Changhwan Kim, and Arthur Sakamoto explored the association between education and income in one of their works, “Education and Lifetime Earnings in the United States”. They used data from the Survey of Income and Program Participation (SIPP) 2004 matched to the Detailed Earnings Record (DER) constructed by the Social Security Administration (SSA) and utilized regression analysis to estimate the net effect of college education on long-term earnings. This revealed a positive correlation between education and lifetime earnings, as well as a gap, implying the differences in earnings based on educational attainment. The results also provided insight into gender differences in lifetime earnings, demonstrating that men consistently earned more than women across all educational levels.<a name=\"cite_ref-4\"></a>[<sup>4</sup>](#cite_note-4) \n",
    "\n",
    "Similarly, Esteban Ortiz-Ospina and Max Roser contributed to understanding income, job, and wealth inequality between men and women in “Economic Inequality by Gender”. Through the analysis of data presented by various sources, including the United Nation’s International Labor Organization (ILO), as well as through a review of relevant research on these inequalities, they found that men tend to earn more than women in all regions of the world. Their analysis also revealed the underrepresentation of women in senior positions within firms.<a name=\"cite_ref-5\"></a>[<sup>5</sup>](#cite_note-5)\n",
    "\n",
    "We hope to build upon this prior work by investigating the impact of specific factors, such as education level and length, work class (private vs. self-employed), occupation, marital status, and gender on an individual’s income. Specifically, we aim to determine whether or not specific factors impact one’s likelihood of earning an annual income exceeding $50,000. To accomplish this, we plan on using one of the datasets available on UCI’s Machine Learning Repository and conducting an analysis of these factors and their effects on income. \n",
    "\n",
    "1. <a name=\"cite_note-1\"></a> [^](#cite_ref-1) U.S. Bureau of Labor Statistics. (2023, May). Education Pays, 2022. U.S. Bureau of Labor Statistics. https://www.bls.gov/careeroutlook/2023/data-on-display/education-pays.htm \n",
    "2. <a name=\"cite_note-2\"></a> [^](#cite_ref-2) U.S. Bureau of Labor Statistics. (2023, April 25). May 2022 OEWS State Occupational Employment and Wage Estimates. U.S. Bureau of Labor Statistics. https://www.bls.gov/oes/current/oes_ca.htm\n",
    "3. <a name=\"cite_note-3\"></a> [^](#cite_ref-3) Kochhar, R. (2023, March 1). The Enduring Grip of the Gender Pay Gap. Pew Research Center’s Social & Demographic Trends Project. https://www.pewresearch.org/social-trends/2023/03/01/the-enduring-grip-of-the-gender-pay-gap/\n",
    "4. <a name=\"cite_note-4\"></a> [^](#cite_ref-4) Tamborini, C. R., Kim, C., & Sakamoto, A. (2015). Education and Lifetime Earnings in the United States. Demography, 52(4), 1383–1407. https://doi.org/10.1007/s13524-015-0407-0 \n",
    "5. <a name=\"cite_note-5\"></a> [^](#cite_ref-5) Ortiz-Ospina, E., & Roser, M. (2019). Economic Inequality by Gender. Retrieved from https://ourworldindata.org/economic-inequality-by-gender\n",
    "\n",
    "\n"
   ]
  },
  {
   "cell_type": "markdown",
   "metadata": {},
   "source": [
    "# Hypothesis\n"
   ]
  },
  {
   "cell_type": "markdown",
   "metadata": {},
   "source": [
    "Our main hypothesis is focused on predicting if a person makes more than $50k annual income or less given the characteristics from our dataset, such as marital status, education level, type of work, and the individual’s gender. \n",
    "\n",
    "The rationale for analyzing these factors in order to determine how much income a person makes comes from observing common trends, such as people with higher education levels tending to make more money, people working in the private sector generally having higher earning potential, and also analyzing the relationship with an individual’s gender. \n",
    "\n",
    "We anticipate there will be a positive correlation between income and these factors provided from trends already observed in history, and by testing this hypothesis, we hope to determine a person’s rough annual income given their personal characteristics and how it correlates with the factors in our dataset to validate our hypothesis. \n"
   ]
  },
  {
   "cell_type": "markdown",
   "metadata": {},
   "source": [
    "# Data"
   ]
  },
  {
   "cell_type": "markdown",
   "metadata": {},
   "source": [
    "## Data overview\n",
    "\n",
    "For each dataset include the following information\n",
    "- Dataset #1\n",
    "  - Dataset Name: Adult\n",
    "  - Link to the dataset: https://archive.ics.uci.edu/static/public/2/data.csv\n",
    "  - Number of observations: 48842\n",
    "  - Number of variables: 15\n",
    "\n",
    "Our dataset captures demographic information, sourced from the U.S. census, with the primary goal of predicting income levels. Key variables include age (integer), workclass (categorical, representing employment status), education (categorical, denoting education level), marital status (categorical), occupation (categorical, with missing values), relationship (categorical), race (categorical), sex (binary), hours worked per week (integer), native country (categorical, with missing values), and the target variable income (binary).\n",
    "\n",
    "To prepare our dataset for analysis, we will need to address missing values in \"workclass,\" \"occupation,\" and \"native-country\" through imputation or removal of affected rows. We can also drop columns that aren’t essential such as “fnlwgt”, “capital-gain”, and “capital-loss”. We can also encode categorical variables, deal with potential outliers, and scale numerical features to further help optimize the dataset for exploring relationships between demographic characteristics and an individual's likelihood of earning over $50k annually.\n"
   ]
  },
  {
   "cell_type": "markdown",
   "metadata": {},
   "source": [
    "## Dataset adult_data.csv "
   ]
  },
  {
   "cell_type": "code",
   "execution_count": 277,
   "metadata": {},
   "outputs": [],
   "source": [
    "# imports \n",
    "import pandas as pd\n",
    "import numpy as np \n",
    "import matplotlib.pyplot as plt\n",
    "import seaborn as sns\n",
    "\n",
    "import warnings\n",
    "warnings.filterwarnings('ignore')\n",
    "from scipy.stats import ttest_ind, chi2_contingency"
   ]
  },
  {
   "cell_type": "code",
   "execution_count": 278,
   "metadata": {},
   "outputs": [
    {
     "data": {
      "text/html": [
       "<div>\n",
       "<style scoped>\n",
       "    .dataframe tbody tr th:only-of-type {\n",
       "        vertical-align: middle;\n",
       "    }\n",
       "\n",
       "    .dataframe tbody tr th {\n",
       "        vertical-align: top;\n",
       "    }\n",
       "\n",
       "    .dataframe thead th {\n",
       "        text-align: right;\n",
       "    }\n",
       "</style>\n",
       "<table border=\"1\" class=\"dataframe\">\n",
       "  <thead>\n",
       "    <tr style=\"text-align: right;\">\n",
       "      <th></th>\n",
       "      <th>age</th>\n",
       "      <th>workclass</th>\n",
       "      <th>fnlwgt</th>\n",
       "      <th>education</th>\n",
       "      <th>education-num</th>\n",
       "      <th>marital-status</th>\n",
       "      <th>occupation</th>\n",
       "      <th>relationship</th>\n",
       "      <th>race</th>\n",
       "      <th>sex</th>\n",
       "      <th>capital-gain</th>\n",
       "      <th>capital-loss</th>\n",
       "      <th>hours-per-week</th>\n",
       "      <th>native-country</th>\n",
       "      <th>income</th>\n",
       "    </tr>\n",
       "  </thead>\n",
       "  <tbody>\n",
       "    <tr>\n",
       "      <th>0</th>\n",
       "      <td>39</td>\n",
       "      <td>State-gov</td>\n",
       "      <td>77516</td>\n",
       "      <td>Bachelors</td>\n",
       "      <td>13</td>\n",
       "      <td>Never-married</td>\n",
       "      <td>Adm-clerical</td>\n",
       "      <td>Not-in-family</td>\n",
       "      <td>White</td>\n",
       "      <td>Male</td>\n",
       "      <td>2174</td>\n",
       "      <td>0</td>\n",
       "      <td>40</td>\n",
       "      <td>United-States</td>\n",
       "      <td>&lt;=50K</td>\n",
       "    </tr>\n",
       "    <tr>\n",
       "      <th>1</th>\n",
       "      <td>50</td>\n",
       "      <td>Self-emp-not-inc</td>\n",
       "      <td>83311</td>\n",
       "      <td>Bachelors</td>\n",
       "      <td>13</td>\n",
       "      <td>Married-civ-spouse</td>\n",
       "      <td>Exec-managerial</td>\n",
       "      <td>Husband</td>\n",
       "      <td>White</td>\n",
       "      <td>Male</td>\n",
       "      <td>0</td>\n",
       "      <td>0</td>\n",
       "      <td>13</td>\n",
       "      <td>United-States</td>\n",
       "      <td>&lt;=50K</td>\n",
       "    </tr>\n",
       "    <tr>\n",
       "      <th>2</th>\n",
       "      <td>38</td>\n",
       "      <td>Private</td>\n",
       "      <td>215646</td>\n",
       "      <td>HS-grad</td>\n",
       "      <td>9</td>\n",
       "      <td>Divorced</td>\n",
       "      <td>Handlers-cleaners</td>\n",
       "      <td>Not-in-family</td>\n",
       "      <td>White</td>\n",
       "      <td>Male</td>\n",
       "      <td>0</td>\n",
       "      <td>0</td>\n",
       "      <td>40</td>\n",
       "      <td>United-States</td>\n",
       "      <td>&lt;=50K</td>\n",
       "    </tr>\n",
       "    <tr>\n",
       "      <th>3</th>\n",
       "      <td>53</td>\n",
       "      <td>Private</td>\n",
       "      <td>234721</td>\n",
       "      <td>11th</td>\n",
       "      <td>7</td>\n",
       "      <td>Married-civ-spouse</td>\n",
       "      <td>Handlers-cleaners</td>\n",
       "      <td>Husband</td>\n",
       "      <td>Black</td>\n",
       "      <td>Male</td>\n",
       "      <td>0</td>\n",
       "      <td>0</td>\n",
       "      <td>40</td>\n",
       "      <td>United-States</td>\n",
       "      <td>&lt;=50K</td>\n",
       "    </tr>\n",
       "    <tr>\n",
       "      <th>4</th>\n",
       "      <td>28</td>\n",
       "      <td>Private</td>\n",
       "      <td>338409</td>\n",
       "      <td>Bachelors</td>\n",
       "      <td>13</td>\n",
       "      <td>Married-civ-spouse</td>\n",
       "      <td>Prof-specialty</td>\n",
       "      <td>Wife</td>\n",
       "      <td>Black</td>\n",
       "      <td>Female</td>\n",
       "      <td>0</td>\n",
       "      <td>0</td>\n",
       "      <td>40</td>\n",
       "      <td>Cuba</td>\n",
       "      <td>&lt;=50K</td>\n",
       "    </tr>\n",
       "  </tbody>\n",
       "</table>\n",
       "</div>"
      ],
      "text/plain": [
       "   age         workclass  fnlwgt  education  education-num  \\\n",
       "0   39         State-gov   77516  Bachelors             13   \n",
       "1   50  Self-emp-not-inc   83311  Bachelors             13   \n",
       "2   38           Private  215646    HS-grad              9   \n",
       "3   53           Private  234721       11th              7   \n",
       "4   28           Private  338409  Bachelors             13   \n",
       "\n",
       "       marital-status         occupation   relationship   race     sex  \\\n",
       "0       Never-married       Adm-clerical  Not-in-family  White    Male   \n",
       "1  Married-civ-spouse    Exec-managerial        Husband  White    Male   \n",
       "2            Divorced  Handlers-cleaners  Not-in-family  White    Male   \n",
       "3  Married-civ-spouse  Handlers-cleaners        Husband  Black    Male   \n",
       "4  Married-civ-spouse     Prof-specialty           Wife  Black  Female   \n",
       "\n",
       "   capital-gain  capital-loss  hours-per-week native-country income  \n",
       "0          2174             0              40  United-States  <=50K  \n",
       "1             0             0              13  United-States  <=50K  \n",
       "2             0             0              40  United-States  <=50K  \n",
       "3             0             0              40  United-States  <=50K  \n",
       "4             0             0              40           Cuba  <=50K  "
      ]
     },
     "execution_count": 278,
     "metadata": {},
     "output_type": "execute_result"
    }
   ],
   "source": [
    "df = pd.read_csv(\"https://archive.ics.uci.edu/static/public/2/data.csv\")\n",
    "\n",
    "df.head()"
   ]
  },
  {
   "cell_type": "markdown",
   "metadata": {},
   "source": [
    "### Before Tidying"
   ]
  },
  {
   "cell_type": "code",
   "execution_count": 279,
   "metadata": {},
   "outputs": [
    {
     "data": {
      "text/plain": [
       "Index(['age', 'workclass', 'fnlwgt', 'education', 'education-num',\n",
       "       'marital-status', 'occupation', 'relationship', 'race', 'sex',\n",
       "       'capital-gain', 'capital-loss', 'hours-per-week', 'native-country',\n",
       "       'income'],\n",
       "      dtype='object')"
      ]
     },
     "execution_count": 279,
     "metadata": {},
     "output_type": "execute_result"
    }
   ],
   "source": [
    "df.columns"
   ]
  },
  {
   "cell_type": "code",
   "execution_count": 280,
   "metadata": {},
   "outputs": [
    {
     "data": {
      "text/plain": [
       "Private             33906\n",
       "Self-emp-not-inc     3862\n",
       "Local-gov            3136\n",
       "State-gov            1981\n",
       "?                    1836\n",
       "Self-emp-inc         1695\n",
       "Federal-gov          1432\n",
       "Without-pay            21\n",
       "Never-worked           10\n",
       "Name: workclass, dtype: int64"
      ]
     },
     "execution_count": 280,
     "metadata": {},
     "output_type": "execute_result"
    }
   ],
   "source": [
    "df['workclass'].value_counts()"
   ]
  },
  {
   "cell_type": "code",
   "execution_count": 281,
   "metadata": {},
   "outputs": [
    {
     "data": {
      "text/plain": [
       "HS-grad         15784\n",
       "Some-college    10878\n",
       "Bachelors        8025\n",
       "Masters          2657\n",
       "Assoc-voc        2061\n",
       "11th             1812\n",
       "Assoc-acdm       1601\n",
       "10th             1389\n",
       "7th-8th           955\n",
       "Prof-school       834\n",
       "9th               756\n",
       "12th              657\n",
       "Doctorate         594\n",
       "5th-6th           509\n",
       "1st-4th           247\n",
       "Preschool          83\n",
       "Name: education, dtype: int64"
      ]
     },
     "execution_count": 281,
     "metadata": {},
     "output_type": "execute_result"
    }
   ],
   "source": [
    "df['education'].value_counts()"
   ]
  },
  {
   "cell_type": "code",
   "execution_count": 282,
   "metadata": {},
   "outputs": [
    {
     "data": {
      "text/plain": [
       "9     15784\n",
       "10    10878\n",
       "13     8025\n",
       "14     2657\n",
       "11     2061\n",
       "7      1812\n",
       "12     1601\n",
       "6      1389\n",
       "4       955\n",
       "15      834\n",
       "5       756\n",
       "8       657\n",
       "16      594\n",
       "3       509\n",
       "2       247\n",
       "1        83\n",
       "Name: education-num, dtype: int64"
      ]
     },
     "execution_count": 282,
     "metadata": {},
     "output_type": "execute_result"
    }
   ],
   "source": [
    "df['education-num'].value_counts()"
   ]
  },
  {
   "cell_type": "code",
   "execution_count": 283,
   "metadata": {},
   "outputs": [
    {
     "data": {
      "text/plain": [
       "Married-civ-spouse       22379\n",
       "Never-married            16117\n",
       "Divorced                  6633\n",
       "Separated                 1530\n",
       "Widowed                   1518\n",
       "Married-spouse-absent      628\n",
       "Married-AF-spouse           37\n",
       "Name: marital-status, dtype: int64"
      ]
     },
     "execution_count": 283,
     "metadata": {},
     "output_type": "execute_result"
    }
   ],
   "source": [
    "df['marital-status'].value_counts()"
   ]
  },
  {
   "cell_type": "code",
   "execution_count": 284,
   "metadata": {},
   "outputs": [
    {
     "data": {
      "text/plain": [
       "Prof-specialty       6172\n",
       "Craft-repair         6112\n",
       "Exec-managerial      6086\n",
       "Adm-clerical         5611\n",
       "Sales                5504\n",
       "Other-service        4923\n",
       "Machine-op-inspct    3022\n",
       "Transport-moving     2355\n",
       "Handlers-cleaners    2072\n",
       "?                    1843\n",
       "Farming-fishing      1490\n",
       "Tech-support         1446\n",
       "Protective-serv       983\n",
       "Priv-house-serv       242\n",
       "Armed-Forces           15\n",
       "Name: occupation, dtype: int64"
      ]
     },
     "execution_count": 284,
     "metadata": {},
     "output_type": "execute_result"
    }
   ],
   "source": [
    "df['occupation'].value_counts()"
   ]
  },
  {
   "cell_type": "code",
   "execution_count": 285,
   "metadata": {},
   "outputs": [
    {
     "data": {
      "text/plain": [
       "<=50K     24720\n",
       "<=50K.    12435\n",
       ">50K       7841\n",
       ">50K.      3846\n",
       "Name: income, dtype: int64"
      ]
     },
     "execution_count": 285,
     "metadata": {},
     "output_type": "execute_result"
    }
   ],
   "source": [
    "df['income'].value_counts()"
   ]
  },
  {
   "cell_type": "markdown",
   "metadata": {},
   "source": [
    "### Data Cleaning\n",
    "#### Dropping observations \n",
    "Notice that a few columns (i.e. occupation) contain missing values, denoted as a '?'. Let's remove any observations that contain missing values in any column: "
   ]
  },
  {
   "cell_type": "code",
   "execution_count": 286,
   "metadata": {},
   "outputs": [],
   "source": [
    "df.dropna(axis='rows', inplace=True) # Drop rows that contain an null values\n",
    "\n",
    "df = df.replace('?', np.nan).dropna(axis='rows', how ='any') # Drop rows containing a '?' value"
   ]
  },
  {
   "cell_type": "markdown",
   "metadata": {},
   "source": [
    "Now, no observations contain missing values: "
   ]
  },
  {
   "cell_type": "code",
   "execution_count": 287,
   "metadata": {},
   "outputs": [
    {
     "data": {
      "text/plain": [
       "Craft-repair         6020\n",
       "Prof-specialty       6008\n",
       "Exec-managerial      5984\n",
       "Adm-clerical         5540\n",
       "Sales                5408\n",
       "Other-service        4808\n",
       "Machine-op-inspct    2970\n",
       "Transport-moving     2316\n",
       "Handlers-cleaners    2046\n",
       "Farming-fishing      1480\n",
       "Tech-support         1420\n",
       "Protective-serv       976\n",
       "Priv-house-serv       232\n",
       "Armed-Forces           14\n",
       "Name: occupation, dtype: int64"
      ]
     },
     "execution_count": 287,
     "metadata": {},
     "output_type": "execute_result"
    }
   ],
   "source": [
    "df['occupation'].value_counts()"
   ]
  },
  {
   "cell_type": "code",
   "execution_count": 288,
   "metadata": {
    "scrolled": true
   },
   "outputs": [
    {
     "data": {
      "text/plain": [
       "Private             33307\n",
       "Self-emp-not-inc     3796\n",
       "Local-gov            3100\n",
       "State-gov            1946\n",
       "Self-emp-inc         1646\n",
       "Federal-gov          1406\n",
       "Without-pay            21\n",
       "Name: workclass, dtype: int64"
      ]
     },
     "execution_count": 288,
     "metadata": {},
     "output_type": "execute_result"
    }
   ],
   "source": [
    "df['workclass'].value_counts()"
   ]
  },
  {
   "cell_type": "markdown",
   "metadata": {},
   "source": [
    "Dropping unnecessary columns that will not be used in our analysis: "
   ]
  },
  {
   "cell_type": "code",
   "execution_count": 289,
   "metadata": {},
   "outputs": [],
   "source": [
    "df = df.drop(columns=['fnlwgt', 'capital-gain', 'capital-loss']) # Drop columns that are not needed"
   ]
  },
  {
   "cell_type": "code",
   "execution_count": 290,
   "metadata": {},
   "outputs": [
    {
     "data": {
      "text/plain": [
       "Index(['age', 'workclass', 'education', 'education-num', 'marital-status',\n",
       "       'occupation', 'relationship', 'race', 'sex', 'hours-per-week',\n",
       "       'native-country', 'income'],\n",
       "      dtype='object')"
      ]
     },
     "execution_count": 290,
     "metadata": {},
     "output_type": "execute_result"
    }
   ],
   "source": [
    "df.columns"
   ]
  },
  {
   "cell_type": "markdown",
   "metadata": {},
   "source": [
    "### Renaming Values\n",
    "#### Renaming Income Values\n",
    "Rather than having the values for the income values be <=50K, >50K, <=50K., and >50K., we can denote income values greater than 50K as 1, otherwise 0. We rename the column \"income\" to \"income-over-50k\" to go with this value update: "
   ]
  },
  {
   "cell_type": "code",
   "execution_count": 291,
   "metadata": {},
   "outputs": [],
   "source": [
    "df[\"income\"] = df[\"income\"].replace({\"<=50K\": 0, \">50K\": 1, \"<=50K.\": 0, \">50K.\": 1}) # Replace income values with 0 and 1\n",
    "\n",
    "df.rename(columns={'income': 'income-over-50k'}, inplace=True) # Rename income column so that it is more descriptive"
   ]
  },
  {
   "cell_type": "markdown",
   "metadata": {},
   "source": [
    "#### Renaming Marital Status Values"
   ]
  },
  {
   "cell_type": "code",
   "execution_count": 292,
   "metadata": {},
   "outputs": [
    {
     "data": {
      "text/plain": [
       "Married-civ-spouse       21055\n",
       "Never-married            14598\n",
       "Divorced                  6297\n",
       "Separated                 1411\n",
       "Widowed                   1277\n",
       "Married-spouse-absent      552\n",
       "Married-AF-spouse           32\n",
       "Name: marital-status, dtype: int64"
      ]
     },
     "execution_count": 292,
     "metadata": {},
     "output_type": "execute_result"
    }
   ],
   "source": [
    "df['marital-status'].value_counts() # Before grouping"
   ]
  },
  {
   "cell_type": "code",
   "execution_count": 293,
   "metadata": {},
   "outputs": [],
   "source": [
    "marital_mappings = {'Married-civ-spouse': 'Married', \n",
    "                    'Married-spouse-absent': 'Married',\n",
    "                    'Married-AF-spouse': 'Married'}\n",
    "\n",
    "df['marital-status'] = df['marital-status'].replace(marital_mappings) "
   ]
  },
  {
   "cell_type": "code",
   "execution_count": 294,
   "metadata": {
    "scrolled": true
   },
   "outputs": [
    {
     "data": {
      "text/plain": [
       "Married          21639\n",
       "Never-married    14598\n",
       "Divorced          6297\n",
       "Separated         1411\n",
       "Widowed           1277\n",
       "Name: marital-status, dtype: int64"
      ]
     },
     "execution_count": 294,
     "metadata": {},
     "output_type": "execute_result"
    }
   ],
   "source": [
    "df['marital-status'].value_counts()"
   ]
  },
  {
   "cell_type": "markdown",
   "metadata": {},
   "source": [
    "# Results\n",
    "\n",
    "## Exploratory Data Analysis\n",
    "\n",
    "### Education vs. Income Level"
   ]
  },
  {
   "cell_type": "markdown",
   "metadata": {},
   "source": [
    "For starters, we are interested in how education plays a role in influencing one's income level. Here we are plotting some graphs hoping to reveal some relationship between the two variables.\n",
    "#### Pie chart"
   ]
  },
  {
   "cell_type": "code",
   "execution_count": 295,
   "metadata": {},
   "outputs": [],
   "source": [
    "# Color palette with 16 unique colors\n",
    "\n",
    "pie_palette = [\n",
    "    '#1f77b4', '#ff7f0e', '#2ca02c', '#d62728',\n",
    "    '#9467bd', '#8c564b', '#e377c2', '#7f7f7f',\n",
    "    '#bcbd22', '#17becf', '#aec7e8', '#ffbb78',\n",
    "    '#98df8a', '#ff9896', '#c5b0d5', '#c49c94'\n",
    "]"
   ]
  },
  {
   "cell_type": "code",
   "execution_count": 296,
   "metadata": {},
   "outputs": [
    {
     "data": {
      "image/png": "[encoded data removed]",
      "text/plain": [
       "<Figure size 1440x720 with 2 Axes>"
      ]
     },
     "metadata": {},
     "output_type": "display_data"
    }
   ],
   "source": [
    "# For this, we need to create two separate dataframes\n",
    "above_50k = df[df['income-over-50k'] == 1].groupby('education').size()\n",
    "below_50k = df[df['income-over-50k'] == 0].groupby('education').size()\n",
    "\n",
    "# Explode the smallest categories by calculating the explode values\n",
    "explode_above_50k = [0.1 if x < (0.05 * sum(above_50k)) else 0 for x in above_50k]\n",
    "explode_below_50k = [0.1 if x < (0.05 * sum(below_50k)) else 0 for x in below_50k]\n",
    "\n",
    "# Creating the pie plots with adjustments\n",
    "fig, ax = plt.subplots(1, 2, figsize=(20, 10))  # Adjusted figure size\n",
    "\n",
    "# Calculating percentages for the legend\n",
    "percentages_above_50k = [f\"{label} - {percentage:.1f}%\" for label, percentage in zip(above_50k.index, above_50k.values / sum(above_50k) * 100)]\n",
    "percentages_below_50k = [f\"{label} - {percentage:.1f}%\" for label, percentage in zip(below_50k.index, below_50k.values / sum(below_50k) * 100)]\n",
    "\n",
    "ax[0].pie(above_50k, startangle=140, explode=explode_above_50k, colors=pie_palette)\n",
    "ax[0].set_title('Education Level Distribution of People Earning Above $50K')\n",
    "ax[0].legend(loc=\"best\", labels=percentages_above_50k, bbox_to_anchor=(1, 0.5))  # Add a legend\n",
    "\n",
    "ax[1].pie(below_50k, startangle=140, explode=explode_below_50k, colors=pie_palette)\n",
    "ax[1].set_title('Education Level Distribution of People Earning Below $50K')\n",
    "ax[1].legend(loc=\"best\", labels=percentages_below_50k, bbox_to_anchor=(1, 0.5))  # Add a legend\n",
    "\n",
    "plt.tight_layout()  # Adjust the layout to fit better\n",
    "plt.show()"
   ]
  },
  {
   "cell_type": "markdown",
   "metadata": {},
   "source": [
    "The following pie charts illustrate the distribution of education levels among individuals earning both above and below 50,000 dollars. While it is not immediately apparent that a higher educational level guarantees an income above 50K—since major proportions of both income categories include individuals with 'Some-college', 'Bachelors', and 'HS-grad' levels—it is noticeable that individuals with education levels of '12th grade' or lower make up a smaller percentage of the above 50K group compared to the below 50K group. Conversely, those with advanced degrees, such as 'Masters', 'Prof-school', and 'Doctorate', represent a larger share of the above 50K income bracket than the below 50K bracket.\n",
    "\n",
    "However, these observations should be interpreted with caution. The representation of each education level in the charts is influenced by the overall count of individuals within each category. For instance, the high count of 'HS-grad' individuals contributes significantly to both income groups, which may overshadow the representation of those with 'Masters' or 'Doctorate' degrees. Therefore, while the charts offer some insight into the distribution of income across education levels, they do not provide a definitive correlation between educational attainment and income level. "
   ]
  },
  {
   "cell_type": "markdown",
   "metadata": {},
   "source": [
    "#### Line Plot\n",
    "To provide a clearer understanding of how education affects income, we can undertake a detailed analysis by creating a line plot. This plot would display the percentage of individuals earning within each educational category compared to the total number of people at that educational level."
   ]
  },
  {
   "cell_type": "code",
   "execution_count": 297,
   "metadata": {
    "scrolled": false
   },
   "outputs": [
    {
     "data": {
      "image/png": "[encoded data removed]",
      "text/plain": [
       "<Figure size 720x432 with 1 Axes>"
      ]
     },
     "metadata": {
      "needs_background": "light"
     },
     "output_type": "display_data"
    }
   ],
   "source": [
    "# Grouping by 'education' and 'education-num', then calculating the mean income\n",
    "education_income_grouped = df.groupby(['education', 'education-num'])['income-over-50k'].mean().reset_index()\n",
    "\n",
    "# Sorting the DataFrame based on 'education-num'\n",
    "education_income_grouped = education_income_grouped.sort_values(by='education-num')\n",
    "\n",
    "# Creating the line plot\n",
    "plt.figure(figsize=(10, 6))\n",
    "sns.lineplot(data=education_income_grouped, x='education', y='income-over-50k')\n",
    "plt.title('Proportion of People Earning More Than $50K by Education Level')\n",
    "plt.xlabel('Education')\n",
    "plt.ylabel('Income Over $50K')\n",
    "plt.xticks(rotation=45)\n",
    "plt.show()"
   ]
  },
  {
   "cell_type": "markdown",
   "metadata": {},
   "source": [
    "The line plot reinforces the conclusions drawn from the pie charts by clearly showing the relationship between educational attainment and income levels. It displays a more distinct upward trend, indicating that as the level of education increases, the proportion of individuals earning more than 50K also increases. This trend is particularly pronounced from 'Bachelors' degree and upwards.\n",
    "\n",
    "Consistent with the observations from the pie charts, individuals with education levels below '12th grade' represent a smaller proportion of those earning above 50K. On the other hand, advanced degrees such as 'Masters', 'Prof-school', and 'Doctorate' are associated with a much higher likelihood of earning above 50K, which is depicted by a sharp increase in the line plot. This graph provides a clearer visualization that higher education levels correlate with higher income brackets, confirming the hypothesis that education is a significant factor in earning potential.\n",
    "\n",
    "The line plot, by focusing on proportions rather than counts, offers a more precise illustration of the potential for income increase with each successive educational category, mitigating the effect of the absolute number of individuals within each education level that was evident in the pie charts. It highlights the increased earning potential associated with higher education levels, especially post-secondary and advanced degrees."
   ]
  },
  {
   "cell_type": "markdown",
   "metadata": {},
   "source": [
    "#### Grouped Bar Plot\n",
    "To further our conclusion that education acts as a significant factor that influences one's income, we can generate a grouped bar plot to compare the proportions of people more or less than 50K for each education level. "
   ]
  },
  {
   "cell_type": "markdown",
   "metadata": {},
   "source": [
    "Let's generate a separate data frame to calculate the proportion of individuals who have income that exceeds and does not exceed 50K income for each education level:"
   ]
  },
  {
   "cell_type": "code",
   "execution_count": 298,
   "metadata": {},
   "outputs": [
    {
     "data": {
      "text/html": [
       "<div>\n",
       "<style scoped>\n",
       "    .dataframe tbody tr th:only-of-type {\n",
       "        vertical-align: middle;\n",
       "    }\n",
       "\n",
       "    .dataframe tbody tr th {\n",
       "        vertical-align: top;\n",
       "    }\n",
       "\n",
       "    .dataframe thead th {\n",
       "        text-align: right;\n",
       "    }\n",
       "</style>\n",
       "<table border=\"1\" class=\"dataframe\">\n",
       "  <thead>\n",
       "    <tr style=\"text-align: right;\">\n",
       "      <th></th>\n",
       "      <th>education</th>\n",
       "      <th>education-num</th>\n",
       "      <th>income-over-50k</th>\n",
       "      <th>proportion</th>\n",
       "    </tr>\n",
       "  </thead>\n",
       "  <tbody>\n",
       "    <tr>\n",
       "      <th>26</th>\n",
       "      <td>Preschool</td>\n",
       "      <td>1</td>\n",
       "      <td>0</td>\n",
       "      <td>0.986111</td>\n",
       "    </tr>\n",
       "    <tr>\n",
       "      <th>27</th>\n",
       "      <td>Preschool</td>\n",
       "      <td>1</td>\n",
       "      <td>1</td>\n",
       "      <td>0.013889</td>\n",
       "    </tr>\n",
       "    <tr>\n",
       "      <th>6</th>\n",
       "      <td>1st-4th</td>\n",
       "      <td>2</td>\n",
       "      <td>0</td>\n",
       "      <td>0.963964</td>\n",
       "    </tr>\n",
       "    <tr>\n",
       "      <th>7</th>\n",
       "      <td>1st-4th</td>\n",
       "      <td>2</td>\n",
       "      <td>1</td>\n",
       "      <td>0.036036</td>\n",
       "    </tr>\n",
       "    <tr>\n",
       "      <th>8</th>\n",
       "      <td>5th-6th</td>\n",
       "      <td>3</td>\n",
       "      <td>0</td>\n",
       "      <td>0.951002</td>\n",
       "    </tr>\n",
       "    <tr>\n",
       "      <th>9</th>\n",
       "      <td>5th-6th</td>\n",
       "      <td>3</td>\n",
       "      <td>1</td>\n",
       "      <td>0.048998</td>\n",
       "    </tr>\n",
       "    <tr>\n",
       "      <th>11</th>\n",
       "      <td>7th-8th</td>\n",
       "      <td>4</td>\n",
       "      <td>1</td>\n",
       "      <td>0.066829</td>\n",
       "    </tr>\n",
       "    <tr>\n",
       "      <th>10</th>\n",
       "      <td>7th-8th</td>\n",
       "      <td>4</td>\n",
       "      <td>0</td>\n",
       "      <td>0.933171</td>\n",
       "    </tr>\n",
       "    <tr>\n",
       "      <th>13</th>\n",
       "      <td>9th</td>\n",
       "      <td>5</td>\n",
       "      <td>1</td>\n",
       "      <td>0.056213</td>\n",
       "    </tr>\n",
       "    <tr>\n",
       "      <th>12</th>\n",
       "      <td>9th</td>\n",
       "      <td>5</td>\n",
       "      <td>0</td>\n",
       "      <td>0.943787</td>\n",
       "    </tr>\n",
       "    <tr>\n",
       "      <th>0</th>\n",
       "      <td>10th</td>\n",
       "      <td>6</td>\n",
       "      <td>0</td>\n",
       "      <td>0.932952</td>\n",
       "    </tr>\n",
       "    <tr>\n",
       "      <th>1</th>\n",
       "      <td>10th</td>\n",
       "      <td>6</td>\n",
       "      <td>1</td>\n",
       "      <td>0.067048</td>\n",
       "    </tr>\n",
       "    <tr>\n",
       "      <th>3</th>\n",
       "      <td>11th</td>\n",
       "      <td>7</td>\n",
       "      <td>1</td>\n",
       "      <td>0.054972</td>\n",
       "    </tr>\n",
       "    <tr>\n",
       "      <th>2</th>\n",
       "      <td>11th</td>\n",
       "      <td>7</td>\n",
       "      <td>0</td>\n",
       "      <td>0.945028</td>\n",
       "    </tr>\n",
       "    <tr>\n",
       "      <th>5</th>\n",
       "      <td>12th</td>\n",
       "      <td>8</td>\n",
       "      <td>1</td>\n",
       "      <td>0.074523</td>\n",
       "    </tr>\n",
       "    <tr>\n",
       "      <th>4</th>\n",
       "      <td>12th</td>\n",
       "      <td>8</td>\n",
       "      <td>0</td>\n",
       "      <td>0.925477</td>\n",
       "    </tr>\n",
       "    <tr>\n",
       "      <th>23</th>\n",
       "      <td>HS-grad</td>\n",
       "      <td>9</td>\n",
       "      <td>1</td>\n",
       "      <td>0.163431</td>\n",
       "    </tr>\n",
       "    <tr>\n",
       "      <th>22</th>\n",
       "      <td>HS-grad</td>\n",
       "      <td>9</td>\n",
       "      <td>0</td>\n",
       "      <td>0.836569</td>\n",
       "    </tr>\n",
       "    <tr>\n",
       "      <th>31</th>\n",
       "      <td>Some-college</td>\n",
       "      <td>10</td>\n",
       "      <td>1</td>\n",
       "      <td>0.201030</td>\n",
       "    </tr>\n",
       "    <tr>\n",
       "      <th>30</th>\n",
       "      <td>Some-college</td>\n",
       "      <td>10</td>\n",
       "      <td>0</td>\n",
       "      <td>0.798970</td>\n",
       "    </tr>\n",
       "    <tr>\n",
       "      <th>17</th>\n",
       "      <td>Assoc-voc</td>\n",
       "      <td>11</td>\n",
       "      <td>1</td>\n",
       "      <td>0.257274</td>\n",
       "    </tr>\n",
       "    <tr>\n",
       "      <th>16</th>\n",
       "      <td>Assoc-voc</td>\n",
       "      <td>11</td>\n",
       "      <td>0</td>\n",
       "      <td>0.742726</td>\n",
       "    </tr>\n",
       "    <tr>\n",
       "      <th>14</th>\n",
       "      <td>Assoc-acdm</td>\n",
       "      <td>12</td>\n",
       "      <td>0</td>\n",
       "      <td>0.735899</td>\n",
       "    </tr>\n",
       "    <tr>\n",
       "      <th>15</th>\n",
       "      <td>Assoc-acdm</td>\n",
       "      <td>12</td>\n",
       "      <td>1</td>\n",
       "      <td>0.264101</td>\n",
       "    </tr>\n",
       "    <tr>\n",
       "      <th>19</th>\n",
       "      <td>Bachelors</td>\n",
       "      <td>13</td>\n",
       "      <td>1</td>\n",
       "      <td>0.419815</td>\n",
       "    </tr>\n",
       "    <tr>\n",
       "      <th>18</th>\n",
       "      <td>Bachelors</td>\n",
       "      <td>13</td>\n",
       "      <td>0</td>\n",
       "      <td>0.580185</td>\n",
       "    </tr>\n",
       "    <tr>\n",
       "      <th>24</th>\n",
       "      <td>Masters</td>\n",
       "      <td>14</td>\n",
       "      <td>1</td>\n",
       "      <td>0.554097</td>\n",
       "    </tr>\n",
       "    <tr>\n",
       "      <th>25</th>\n",
       "      <td>Masters</td>\n",
       "      <td>14</td>\n",
       "      <td>0</td>\n",
       "      <td>0.445903</td>\n",
       "    </tr>\n",
       "    <tr>\n",
       "      <th>28</th>\n",
       "      <td>Prof-school</td>\n",
       "      <td>15</td>\n",
       "      <td>1</td>\n",
       "      <td>0.754140</td>\n",
       "    </tr>\n",
       "    <tr>\n",
       "      <th>29</th>\n",
       "      <td>Prof-school</td>\n",
       "      <td>15</td>\n",
       "      <td>0</td>\n",
       "      <td>0.245860</td>\n",
       "    </tr>\n",
       "    <tr>\n",
       "      <th>20</th>\n",
       "      <td>Doctorate</td>\n",
       "      <td>16</td>\n",
       "      <td>1</td>\n",
       "      <td>0.733456</td>\n",
       "    </tr>\n",
       "    <tr>\n",
       "      <th>21</th>\n",
       "      <td>Doctorate</td>\n",
       "      <td>16</td>\n",
       "      <td>0</td>\n",
       "      <td>0.266544</td>\n",
       "    </tr>\n",
       "  </tbody>\n",
       "</table>\n",
       "</div>"
      ],
      "text/plain": [
       "       education  education-num  income-over-50k  proportion\n",
       "26     Preschool              1                0    0.986111\n",
       "27     Preschool              1                1    0.013889\n",
       "6        1st-4th              2                0    0.963964\n",
       "7        1st-4th              2                1    0.036036\n",
       "8        5th-6th              3                0    0.951002\n",
       "9        5th-6th              3                1    0.048998\n",
       "11       7th-8th              4                1    0.066829\n",
       "10       7th-8th              4                0    0.933171\n",
       "13           9th              5                1    0.056213\n",
       "12           9th              5                0    0.943787\n",
       "0           10th              6                0    0.932952\n",
       "1           10th              6                1    0.067048\n",
       "3           11th              7                1    0.054972\n",
       "2           11th              7                0    0.945028\n",
       "5           12th              8                1    0.074523\n",
       "4           12th              8                0    0.925477\n",
       "23       HS-grad              9                1    0.163431\n",
       "22       HS-grad              9                0    0.836569\n",
       "31  Some-college             10                1    0.201030\n",
       "30  Some-college             10                0    0.798970\n",
       "17     Assoc-voc             11                1    0.257274\n",
       "16     Assoc-voc             11                0    0.742726\n",
       "14    Assoc-acdm             12                0    0.735899\n",
       "15    Assoc-acdm             12                1    0.264101\n",
       "19     Bachelors             13                1    0.419815\n",
       "18     Bachelors             13                0    0.580185\n",
       "24       Masters             14                1    0.554097\n",
       "25       Masters             14                0    0.445903\n",
       "28   Prof-school             15                1    0.754140\n",
       "29   Prof-school             15                0    0.245860\n",
       "20     Doctorate             16                1    0.733456\n",
       "21     Doctorate             16                0    0.266544"
      ]
     },
     "execution_count": 298,
     "metadata": {},
     "output_type": "execute_result"
    }
   ],
   "source": [
    "prop_education_df = (df['income-over-50k'].groupby(by=[df['education'], df['education-num']]).value_counts(normalize=True).rename('proportion').reset_index())\n",
    "\n",
    "prop_education_df = prop_education_df.sort_values(by='education-num')\n",
    "\n",
    "prop_education_df"
   ]
  },
  {
   "cell_type": "markdown",
   "metadata": {},
   "source": [
    "Using the newly generated data frame, we can create a barplot to see the relation between education levels and income:"
   ]
  },
  {
   "cell_type": "code",
   "execution_count": 299,
   "metadata": {},
   "outputs": [
    {
     "data": {
      "text/plain": [
       "<matplotlib.legend.Legend at 0x134653b80>"
      ]
     },
     "execution_count": 299,
     "metadata": {},
     "output_type": "execute_result"
    },
    {
     "data": {
      "image/png": "[encoded data removed]",
      "text/plain": [
       "<Figure size 432x288 with 1 Axes>"
      ]
     },
     "metadata": {
      "needs_background": "light"
     },
     "output_type": "display_data"
    }
   ],
   "source": [
    "# Plot proportions\n",
    "ax = sns.barplot(x='education', y='proportion', hue='income-over-50k', data=prop_education_df)\n",
    "ax.set_title('Proportion of People Earning More Than $50K by Education')\n",
    "ax.set_ylabel('Proportion')\n",
    "ax.set_xlabel('Education')\n",
    "plt.xticks(rotation=90)\n",
    "\n",
    "# Rename legend\n",
    "handles, _ = ax.get_legend_handles_labels() # Retrieve handles from generated legend\n",
    "plt.legend(handles=handles, labels=['Below or Equal to $50K', 'Above $50K'], title='Income Status') # Change labels and title for legend"
   ]
  },
  {
   "cell_type": "markdown",
   "metadata": {},
   "source": [
    "The grouped bar plot above reinforces the conclusions drawn by the pie chart and line plot generated above. The proportion of individuals with income exceeding 50K appears to grow with the educational level attained.\n",
    "\n",
    "This relationship is particularly noticeable with education levels greater than or equal to 14, where the proportion of individuals earning more than 50K is greater than those earning less than or equal to 50K. These education levels correlate with a bachelor's degree and upwards. In conjunction with the earlier line plot, this bar plot reinforces the narrative that higher educational achievements are consistently associated with greater earnings by further highlighting how higher education levels correlate with greater earnings by demonstrating how the proportion of individuals earning less than or equal to 50K generally decreases when a higher education level is pursued. \n",
    "\n",
    "\n"
   ]
  },
  {
   "cell_type": "markdown",
   "metadata": {},
   "source": [
    "### Work Class vs. Income Level\n",
    "\n",
    "For this section, we will create a separate copy of the dataframe (`df_workclass`) and standardize the workclasses to perform our analysis. "
   ]
  },
  {
   "cell_type": "code",
   "execution_count": 300,
   "metadata": {},
   "outputs": [],
   "source": [
    "df_workclass = df.copy() # Create a separate copy of the dataframe "
   ]
  },
  {
   "cell_type": "markdown",
   "metadata": {},
   "source": [
    "Below are the specific values under the `workclass` category in our dataframe. For the purpose of our analysis, we want to keep only the government employees and the private employees. "
   ]
  },
  {
   "cell_type": "code",
   "execution_count": 301,
   "metadata": {},
   "outputs": [
    {
     "data": {
      "text/plain": [
       "Private             33307\n",
       "Self-emp-not-inc     3796\n",
       "Local-gov            3100\n",
       "State-gov            1946\n",
       "Self-emp-inc         1646\n",
       "Federal-gov          1406\n",
       "Without-pay            21\n",
       "Name: workclass, dtype: int64"
      ]
     },
     "execution_count": 301,
     "metadata": {},
     "output_type": "execute_result"
    }
   ],
   "source": [
    "df_workclass['workclass'].value_counts()"
   ]
  },
  {
   "cell_type": "markdown",
   "metadata": {},
   "source": [
    "Below, we standardize `workclasses` in `df_workclass` using the `standardize_workclass` function to group all government employees under `Government` and all private under `Private`. All other workclasses are set to `np.nan` and are dropped. "
   ]
  },
  {
   "cell_type": "code",
   "execution_count": 302,
   "metadata": {},
   "outputs": [],
   "source": [
    "def standardize_workclass(string): \n",
    "    string = string.lower() # convert all text to lowercase\n",
    "    string = string.strip() # remove leading and trailing characters from the gender value\n",
    "    \n",
    "    if 'gov' in string:\n",
    "        output = 'Government'\n",
    "    elif 'private' in string:\n",
    "        output = 'Private' \n",
    "    else: \n",
    "        output = np.nan\n",
    "    \n",
    "    return output"
   ]
  },
  {
   "cell_type": "code",
   "execution_count": 303,
   "metadata": {},
   "outputs": [
    {
     "data": {
      "text/plain": [
       "array(['Government', 'Private'], dtype=object)"
      ]
     },
     "execution_count": 303,
     "metadata": {},
     "output_type": "execute_result"
    }
   ],
   "source": [
    "df_workclass['workclass'] = df_workclass['workclass'].apply(standardize_workclass) # Standardize workclass\n",
    "\n",
    "df_workclass = df_workclass.dropna(subset=['workclass']) # Drop null values\n",
    "\n",
    "df_workclass['workclass'].unique()"
   ]
  },
  {
   "cell_type": "markdown",
   "metadata": {},
   "source": [
    "Let's generate a separate data frame to calculate the proportion of individuals who have income that exceeds and does not exceed 50K income for each work class in `df_workclass`:"
   ]
  },
  {
   "cell_type": "code",
   "execution_count": 304,
   "metadata": {},
   "outputs": [
    {
     "data": {
      "text/html": [
       "<div>\n",
       "<style scoped>\n",
       "    .dataframe tbody tr th:only-of-type {\n",
       "        vertical-align: middle;\n",
       "    }\n",
       "\n",
       "    .dataframe tbody tr th {\n",
       "        vertical-align: top;\n",
       "    }\n",
       "\n",
       "    .dataframe thead th {\n",
       "        text-align: right;\n",
       "    }\n",
       "</style>\n",
       "<table border=\"1\" class=\"dataframe\">\n",
       "  <thead>\n",
       "    <tr style=\"text-align: right;\">\n",
       "      <th></th>\n",
       "      <th>workclass</th>\n",
       "      <th>income-over-50k</th>\n",
       "      <th>proportion</th>\n",
       "    </tr>\n",
       "  </thead>\n",
       "  <tbody>\n",
       "    <tr>\n",
       "      <th>0</th>\n",
       "      <td>Government</td>\n",
       "      <td>0</td>\n",
       "      <td>0.692498</td>\n",
       "    </tr>\n",
       "    <tr>\n",
       "      <th>1</th>\n",
       "      <td>Government</td>\n",
       "      <td>1</td>\n",
       "      <td>0.307502</td>\n",
       "    </tr>\n",
       "    <tr>\n",
       "      <th>2</th>\n",
       "      <td>Private</td>\n",
       "      <td>0</td>\n",
       "      <td>0.782298</td>\n",
       "    </tr>\n",
       "    <tr>\n",
       "      <th>3</th>\n",
       "      <td>Private</td>\n",
       "      <td>1</td>\n",
       "      <td>0.217702</td>\n",
       "    </tr>\n",
       "  </tbody>\n",
       "</table>\n",
       "</div>"
      ],
      "text/plain": [
       "    workclass  income-over-50k  proportion\n",
       "0  Government                0    0.692498\n",
       "1  Government                1    0.307502\n",
       "2     Private                0    0.782298\n",
       "3     Private                1    0.217702"
      ]
     },
     "execution_count": 304,
     "metadata": {},
     "output_type": "execute_result"
    }
   ],
   "source": [
    "prop_workclass_df = (df_workclass['income-over-50k'].groupby(by=df_workclass['workclass']).value_counts(normalize=True).rename('proportion').reset_index())\n",
    "\n",
    "prop_workclass_df"
   ]
  },
  {
   "cell_type": "markdown",
   "metadata": {},
   "source": [
    "#### Grouped Barplot "
   ]
  },
  {
   "cell_type": "markdown",
   "metadata": {},
   "source": [
    "Using the newly generated data frame, we can create a grouped barplot to view the relationship between work class and income:"
   ]
  },
  {
   "cell_type": "code",
   "execution_count": 305,
   "metadata": {},
   "outputs": [
    {
     "data": {
      "text/plain": [
       "<matplotlib.legend.Legend at 0x13475e4a0>"
      ]
     },
     "execution_count": 305,
     "metadata": {},
     "output_type": "execute_result"
    },
    {
     "data": {
      "image/png": "[encoded data removed]",
      "text/plain": [
       "<Figure size 432x288 with 1 Axes>"
      ]
     },
     "metadata": {
      "needs_background": "light"
     },
     "output_type": "display_data"
    }
   ],
   "source": [
    "# Plot proportions\n",
    "ax = sns.barplot(x='workclass', y='proportion', hue='income-over-50k', data=prop_workclass_df)\n",
    "ax.set_title('Proportion of People Earning More Than $50K by Workclass')\n",
    "ax.set_ylabel('Proportion')\n",
    "ax.set_xlabel('Workclass')\n",
    "\n",
    "handles, _ = ax.get_legend_handles_labels() # Retrieve handles from generated legend\n",
    "plt.legend(handles=handles, labels=['Below or Equal to $50K', 'Above $50K'], title='Income Status') # Change labels and title for legend"
   ]
  },
  {
   "cell_type": "markdown",
   "metadata": {},
   "source": [
    "The grouped bar plot indicates that most people, regardless of their work class, tend to earn below or up to 50K, outnumbering those earning above 50K. But interestingly, government employees show a higher proportion earning above 50K compared to private sector workers.\n",
    "\n",
    "\n",
    "\n",
    "This finding challenges our initial hypothesis that private-sector jobs generally bring in higher incomes compared to government positions.  Before concluding that government jobs outearn private-sector jobs, we may benefit from conducting further analysis to prove this idea. \n",
    "\n",
    "\n",
    "\n"
   ]
  },
  {
   "cell_type": "markdown",
   "metadata": {},
   "source": [
    "#### Chi-Square Test"
   ]
  },
  {
   "cell_type": "markdown",
   "metadata": {},
   "source": [
    "We can perform a chi-squared test to see if there is a significant difference in the income levels (<=50K and >50K) between government and private sector employees. Our null hypothesis is that there is no relationship between income levels and work class. Our alternative hypothesis is that there is a relationship between income levels and work class."
   ]
  },
  {
   "cell_type": "code",
   "execution_count": 306,
   "metadata": {},
   "outputs": [
    {
     "name": "stdout",
     "output_type": "stream",
     "text": [
      "Chi-squared statistic: 243.9159570665975\n",
      "P-value: 5.506558225834566e-55\n",
      "Degrees of freedom: 1\n",
      "There is a statistical difference. p =  5.506558225834566e-55\n"
     ]
    }
   ],
   "source": [
    "contigency_tab = pd.crosstab(df_workclass['workclass'], df_workclass['income-over-50k']) # create contingency table \n",
    "\n",
    "statistic, pvalue, dof, expected_freq = chi2_contingency(contigency_tab)\n",
    "\n",
    "# Results \n",
    "print(f'Chi-squared statistic: {statistic}')\n",
    "print(f'P-value: {pvalue}')\n",
    "print(f'Degrees of freedom: {dof}')\n",
    "\n",
    "if (pvalue < 0.01): \n",
    "    print(\"There is a statistical difference. p = \", pvalue)\n",
    "else: \n",
    "    print(\"There is no statistical difference. p = \", pvalue)"
   ]
  },
  {
   "cell_type": "markdown",
   "metadata": {},
   "source": [
    "The calculated p-value is less than 0.01, passing significance. Thus, we reject the null hypothesis and conclude that there is evidence of a relationship between income levels and work class."
   ]
  },
  {
   "cell_type": "markdown",
   "metadata": {},
   "source": [
    "### Occupation vs. Income Level"
   ]
  },
  {
   "cell_type": "markdown",
   "metadata": {},
   "source": [
    "Similar to the above section, we will create a separate copy of the dataframe (`df_occupation`) and standardize the occupations to perform our analysis."
   ]
  },
  {
   "cell_type": "code",
   "execution_count": 307,
   "metadata": {},
   "outputs": [
    {
     "data": {
      "text/plain": [
       "Craft-repair         6020\n",
       "Prof-specialty       6008\n",
       "Exec-managerial      5984\n",
       "Adm-clerical         5540\n",
       "Sales                5408\n",
       "Other-service        4808\n",
       "Machine-op-inspct    2970\n",
       "Transport-moving     2316\n",
       "Handlers-cleaners    2046\n",
       "Farming-fishing      1480\n",
       "Tech-support         1420\n",
       "Protective-serv       976\n",
       "Priv-house-serv       232\n",
       "Armed-Forces           14\n",
       "Name: occupation, dtype: int64"
      ]
     },
     "execution_count": 307,
     "metadata": {},
     "output_type": "execute_result"
    }
   ],
   "source": [
    "df_occupation = df.copy()\n",
    "df_occupation['occupation'].value_counts()"
   ]
  },
  {
   "cell_type": "code",
   "execution_count": 308,
   "metadata": {},
   "outputs": [],
   "source": [
    "#create function to categorize clerical vs non-clerical jobs\n",
    "def standardize_occupation(string): \n",
    "    #select clerical jobs\n",
    "    clerical = ['Prof-specialty','Adm-clerical', 'Exec-managerial', 'Sales', 'Tech-support']\n",
    "    \n",
    "    if string in clerical:\n",
    "        output = 'clerical'\n",
    "    else:\n",
    "        output = 'non-clerical' \n",
    "    \n",
    "    return output"
   ]
  },
  {
   "cell_type": "code",
   "execution_count": 309,
   "metadata": {},
   "outputs": [
    {
     "data": {
      "text/plain": [
       "clerical        24360\n",
       "non-clerical    20862\n",
       "Name: occupation, dtype: int64"
      ]
     },
     "execution_count": 309,
     "metadata": {},
     "output_type": "execute_result"
    }
   ],
   "source": [
    "#apply function to df \n",
    "df_occupation['occupation'] = df_occupation['occupation'].apply(standardize_occupation)\n",
    "df_occupation['occupation'].value_counts()"
   ]
  },
  {
   "cell_type": "markdown",
   "metadata": {},
   "source": [
    "#### Grouped Barplot"
   ]
  },
  {
   "cell_type": "code",
   "execution_count": 310,
   "metadata": {},
   "outputs": [
    {
     "data": {
      "text/html": [
       "<div>\n",
       "<style scoped>\n",
       "    .dataframe tbody tr th:only-of-type {\n",
       "        vertical-align: middle;\n",
       "    }\n",
       "\n",
       "    .dataframe tbody tr th {\n",
       "        vertical-align: top;\n",
       "    }\n",
       "\n",
       "    .dataframe thead th {\n",
       "        text-align: right;\n",
       "    }\n",
       "</style>\n",
       "<table border=\"1\" class=\"dataframe\">\n",
       "  <thead>\n",
       "    <tr style=\"text-align: right;\">\n",
       "      <th></th>\n",
       "      <th>occupation</th>\n",
       "      <th>income-over-50k</th>\n",
       "      <th>proportion</th>\n",
       "    </tr>\n",
       "  </thead>\n",
       "  <tbody>\n",
       "    <tr>\n",
       "      <th>0</th>\n",
       "      <td>clerical</td>\n",
       "      <td>0</td>\n",
       "      <td>0.663670</td>\n",
       "    </tr>\n",
       "    <tr>\n",
       "      <th>1</th>\n",
       "      <td>clerical</td>\n",
       "      <td>1</td>\n",
       "      <td>0.336330</td>\n",
       "    </tr>\n",
       "    <tr>\n",
       "      <th>2</th>\n",
       "      <td>non-clerical</td>\n",
       "      <td>0</td>\n",
       "      <td>0.855479</td>\n",
       "    </tr>\n",
       "    <tr>\n",
       "      <th>3</th>\n",
       "      <td>non-clerical</td>\n",
       "      <td>1</td>\n",
       "      <td>0.144521</td>\n",
       "    </tr>\n",
       "  </tbody>\n",
       "</table>\n",
       "</div>"
      ],
      "text/plain": [
       "     occupation  income-over-50k  proportion\n",
       "0      clerical                0    0.663670\n",
       "1      clerical                1    0.336330\n",
       "2  non-clerical                0    0.855479\n",
       "3  non-clerical                1    0.144521"
      ]
     },
     "execution_count": 310,
     "metadata": {},
     "output_type": "execute_result"
    }
   ],
   "source": [
    "#create df of proportions of clerical vs non clerical and over vs under 50k\n",
    "prop_occupation_df = (df_occupation['income-over-50k'].groupby(by=df_occupation['occupation']).value_counts(normalize=True).rename('proportion').reset_index())\n",
    "prop_occupation_df"
   ]
  },
  {
   "cell_type": "code",
   "execution_count": 311,
   "metadata": {},
   "outputs": [
    {
     "data": {
      "text/plain": [
       "<matplotlib.legend.Legend at 0x133718fa0>"
      ]
     },
     "execution_count": 311,
     "metadata": {},
     "output_type": "execute_result"
    },
    {
     "data": {
      "image/png": "[encoded data removed]",
      "text/plain": [
       "<Figure size 432x288 with 1 Axes>"
      ]
     },
     "metadata": {
      "needs_background": "light"
     },
     "output_type": "display_data"
    }
   ],
   "source": [
    "#plot proportions\n",
    "fig = sns.barplot(x='occupation', y='proportion', hue='income-over-50k', data=prop_occupation_df)\n",
    "plt.title('Proportions of Income Status by Occupation')\n",
    "plt.xlabel('Occupation Category')\n",
    "plt.ylabel('Proportion')\n",
    "\n",
    "#edit legend\n",
    "handles, _ = fig.get_legend_handles_labels() \n",
    "plt.legend(handles=handles, labels=['Below or Equal to $50K', 'Above $50K'], title='Income')"
   ]
  },
  {
   "cell_type": "markdown",
   "metadata": {},
   "source": [
    "Here we can see clearly that regardless of occupation fewer people make above 50K than below 50K. There is also a greater proportion of people making above 50K when they have a clerical position than non-clerical. For non-clerical jobs, the large majority of people make below 50K."
   ]
  },
  {
   "cell_type": "markdown",
   "metadata": {},
   "source": [
    "#### Income Distribution of Age by Occupation"
   ]
  },
  {
   "cell_type": "markdown",
   "metadata": {},
   "source": [
    "We want to look at the income distributions of age-given occupations (clerical vs non-clerical jobs) to get an idea of the longevity of career choices. We would hypothesize that clerical jobs have greater ages given the physical toll non-clerical (blue-collar) jobs take."
   ]
  },
  {
   "cell_type": "code",
   "execution_count": 312,
   "metadata": {},
   "outputs": [
    {
     "data": {
      "image/png": "[encoded data removed]",
      "text/plain": [
       "<Figure size 584.125x216 with 2 Axes>"
      ]
     },
     "metadata": {
      "needs_background": "light"
     },
     "output_type": "display_data"
    }
   ],
   "source": [
    "fig = sns.FacetGrid(df_occupation, col='occupation', hue='income-over-50k')\n",
    "fig.map(plt.hist, 'age', bins=20, alpha=0.7)\n",
    "fig.add_legend(title='Income', labels=['Below or Equal to $50K', 'Above $50K'])\n",
    "fig.set_axis_labels('Age', 'Count')\n",
    "plt.suptitle('Income Distribution by Age in Clerical vs. Non-Clerical Jobs', y=1.02)\n",
    "plt.show()"
   ]
  },
  {
   "cell_type": "markdown",
   "metadata": {},
   "source": [
    "Here we can see that non-clerical has a bigger difference in distributions than clerical. It also seems that clerical has about the same amount of people earning below and above 50K for older ages. We can see that non-clerical jobs have mainly older people earning below 50K this could be because those who earn more than 50K are able to retire earlier. For clerical jobs, there is a spike for below 50K in earlier ages and then leveling out at around age 45 or 50 this could be due to people entering the workforce and working their way up to higher salaries and then plateauing around that age. "
   ]
  },
  {
   "cell_type": "markdown",
   "metadata": {},
   "source": [
    "#### Chi-squared test "
   ]
  },
  {
   "cell_type": "markdown",
   "metadata": {},
   "source": [
    "We can perform a chi-squared test to see if there is a significant difference in the income levels (<=50K and >50K) between clerical and non-clerical occupations. Our null hypothesis is that there is no association between income levels and occupation (clerical and non-clerical). Our alternative hypothesis is that there is a significant association between income levels and occupation."
   ]
  },
  {
   "cell_type": "code",
   "execution_count": 313,
   "metadata": {},
   "outputs": [
    {
     "name": "stdout",
     "output_type": "stream",
     "text": [
      "Chi-squared statistic: 2216.8342052688668\n",
      "P-value: 0.0\n",
      "Degrees of freedom: 1\n",
      "There is a statistical difference. p =  0.0\n"
     ]
    }
   ],
   "source": [
    "#perform test\n",
    "contingency_table = pd.crosstab(df_occupation['occupation'], df_occupation['income-over-50k'])\n",
    "chi2_stat, p_value, dof, expected = chi2_contingency(contingency_table)\n",
    "\n",
    "#print results\n",
    "print(f'Chi-squared statistic: {chi2_stat}')\n",
    "print(f'P-value: {p_value}')\n",
    "print(f'Degrees of freedom: {dof}')\n",
    "\n",
    "#interpret resutls\n",
    "if (p_value < 0.01): \n",
    "    print(\"There is a statistical difference. p = \", p_value)\n",
    "else: \n",
    "    print(\"There is no statistical difference. p = \", p_value)"
   ]
  },
  {
   "cell_type": "markdown",
   "metadata": {},
   "source": [
    "Our p-value is less than our significance level (0.01), so we reject the null hypothesis and conclude that there is evidence of a significant association between income levels and occupation."
   ]
  },
  {
   "cell_type": "markdown",
   "metadata": {},
   "source": [
    "###  Marital Status vs. Income Level"
   ]
  },
  {
   "cell_type": "markdown",
   "metadata": {},
   "source": [
    "Similar to the above sections, we will create a separate copy of the dataframe (`df_marital`) and standardize the marital status to perform our analysis."
   ]
  },
  {
   "cell_type": "code",
   "execution_count": 314,
   "metadata": {},
   "outputs": [
    {
     "data": {
      "text/plain": [
       "Married          21639\n",
       "Never-married    14598\n",
       "Divorced          6297\n",
       "Separated         1411\n",
       "Widowed           1277\n",
       "Name: marital-status, dtype: int64"
      ]
     },
     "execution_count": 314,
     "metadata": {},
     "output_type": "execute_result"
    }
   ],
   "source": [
    "df_marital = df.copy()\n",
    "df_marital['marital-status'].value_counts()"
   ]
  },
  {
   "cell_type": "code",
   "execution_count": 315,
   "metadata": {},
   "outputs": [
    {
     "data": {
      "text/plain": [
       "0        Never-married\n",
       "1              Married\n",
       "2             Divorced\n",
       "3              Married\n",
       "4              Married\n",
       "             ...      \n",
       "48836    Never-married\n",
       "48837         Divorced\n",
       "48839          Married\n",
       "48840         Divorced\n",
       "48841          Married\n",
       "Name: marital-status, Length: 45222, dtype: object"
      ]
     },
     "execution_count": 315,
     "metadata": {},
     "output_type": "execute_result"
    }
   ],
   "source": [
    "df_marital['marital-status']"
   ]
  },
  {
   "cell_type": "code",
   "execution_count": 316,
   "metadata": {},
   "outputs": [],
   "source": [
    "#create function to categorize never-married vs married once individuals\n",
    "def standardize_occupation_marital(string): \n",
    "    #select married ones\n",
    "    marital = ['Married','Divorced', 'Separated', 'Widowed']\n",
    "    \n",
    "    if string in marital:\n",
    "        output = 'Married_once'\n",
    "    else:\n",
    "        output = 'Not-Married' \n",
    "    \n",
    "    return output"
   ]
  },
  {
   "cell_type": "code",
   "execution_count": 317,
   "metadata": {},
   "outputs": [
    {
     "data": {
      "text/plain": [
       "Married_once    30624\n",
       "Not-Married     14598\n",
       "Name: marital-status, dtype: int64"
      ]
     },
     "execution_count": 317,
     "metadata": {},
     "output_type": "execute_result"
    }
   ],
   "source": [
    "df_marital['marital-status'] = df_marital['marital-status'].apply(standardize_occupation_marital)\n",
    "df_marital['marital-status'].value_counts()"
   ]
  },
  {
   "cell_type": "code",
   "execution_count": 318,
   "metadata": {},
   "outputs": [
    {
     "data": {
      "text/plain": [
       "0         Not-Married\n",
       "1        Married_once\n",
       "2        Married_once\n",
       "3        Married_once\n",
       "4        Married_once\n",
       "             ...     \n",
       "48836     Not-Married\n",
       "48837    Married_once\n",
       "48839    Married_once\n",
       "48840    Married_once\n",
       "48841    Married_once\n",
       "Name: marital-status, Length: 45222, dtype: object"
      ]
     },
     "execution_count": 318,
     "metadata": {},
     "output_type": "execute_result"
    }
   ],
   "source": [
    "df_marital['marital-status']"
   ]
  },
  {
   "cell_type": "code",
   "execution_count": 319,
   "metadata": {},
   "outputs": [
    {
     "data": {
      "text/html": [
       "<div>\n",
       "<style scoped>\n",
       "    .dataframe tbody tr th:only-of-type {\n",
       "        vertical-align: middle;\n",
       "    }\n",
       "\n",
       "    .dataframe tbody tr th {\n",
       "        vertical-align: top;\n",
       "    }\n",
       "\n",
       "    .dataframe thead th {\n",
       "        text-align: right;\n",
       "    }\n",
       "</style>\n",
       "<table border=\"1\" class=\"dataframe\">\n",
       "  <thead>\n",
       "    <tr style=\"text-align: right;\">\n",
       "      <th></th>\n",
       "      <th>marital-status</th>\n",
       "      <th>income-over-50k</th>\n",
       "      <th>proportion</th>\n",
       "    </tr>\n",
       "  </thead>\n",
       "  <tbody>\n",
       "    <tr>\n",
       "      <th>0</th>\n",
       "      <td>Married_once</td>\n",
       "      <td>0</td>\n",
       "      <td>0.656903</td>\n",
       "    </tr>\n",
       "    <tr>\n",
       "      <th>1</th>\n",
       "      <td>Married_once</td>\n",
       "      <td>1</td>\n",
       "      <td>0.343097</td>\n",
       "    </tr>\n",
       "    <tr>\n",
       "      <th>2</th>\n",
       "      <td>Not-Married</td>\n",
       "      <td>0</td>\n",
       "      <td>0.951980</td>\n",
       "    </tr>\n",
       "    <tr>\n",
       "      <th>3</th>\n",
       "      <td>Not-Married</td>\n",
       "      <td>1</td>\n",
       "      <td>0.048020</td>\n",
       "    </tr>\n",
       "  </tbody>\n",
       "</table>\n",
       "</div>"
      ],
      "text/plain": [
       "  marital-status  income-over-50k  proportion\n",
       "0   Married_once                0    0.656903\n",
       "1   Married_once                1    0.343097\n",
       "2    Not-Married                0    0.951980\n",
       "3    Not-Married                1    0.048020"
      ]
     },
     "execution_count": 319,
     "metadata": {},
     "output_type": "execute_result"
    }
   ],
   "source": [
    "prop_marital_df = (df_marital['income-over-50k'].groupby(by=df_marital['marital-status']).value_counts(normalize=True).rename('proportion').reset_index())\n",
    "prop_marital_df"
   ]
  },
  {
   "cell_type": "code",
   "execution_count": 320,
   "metadata": {},
   "outputs": [
    {
     "data": {
      "text/plain": [
       "<matplotlib.legend.Legend at 0x1340e8250>"
      ]
     },
     "execution_count": 320,
     "metadata": {},
     "output_type": "execute_result"
    },
    {
     "data": {
      "image/png": "[encoded data removed]",
      "text/plain": [
       "<Figure size 432x288 with 1 Axes>"
      ]
     },
     "metadata": {
      "needs_background": "light"
     },
     "output_type": "display_data"
    }
   ],
   "source": [
    "sns.set_palette(['red', 'limegreen'])\n",
    "fig = sns.barplot(x='marital-status', y='proportion', hue='income-over-50k', data=prop_marital_df)\n",
    "plt.title('Proportions of Income Status by Marital-status')\n",
    "plt.xlabel('Marital Category')\n",
    "plt.ylabel('Proportion')\n",
    "\n",
    "#edit legend\n",
    "handles, _ = fig.get_legend_handles_labels() \n",
    "plt.legend(handles=handles, labels=['Below or Equal to $50K', 'Above $50K'], title='Income')"
   ]
  },
  {
   "cell_type": "markdown",
   "metadata": {},
   "source": [
    "The bar plot above describes the proportion of income levels for people who have married once and people who \n",
    "have not married. From the barplot we are able to visualize that there is a higher proportion of people who \n",
    "make below 50K when they are not married vs when they are married. In general, the people in the married group\n",
    "are more likely to make above 50K and less likely to make below 50K as we can see from the proportions. "
   ]
  },
  {
   "cell_type": "markdown",
   "metadata": {},
   "source": [
    "#### Income Distribution of Age by Marital Status"
   ]
  },
  {
   "cell_type": "code",
   "execution_count": 321,
   "metadata": {},
   "outputs": [
    {
     "data": {
      "image/png": "[encoded data removed]",
      "text/plain": [
       "<Figure size 584.125x216 with 2 Axes>"
      ]
     },
     "metadata": {
      "needs_background": "light"
     },
     "output_type": "display_data"
    }
   ],
   "source": [
    "sns.set_palette(['red', 'limegreen'])\n",
    "fig = sns.FacetGrid(df_marital, col='marital-status', hue='income-over-50k')\n",
    "fig.map(plt.hist, 'age', bins=20, alpha=0.7)\n",
    "fig.add_legend(title='Income', labels=['Below or Equal to $50K', 'Above $50K'])\n",
    "fig.set_axis_labels('Age', 'Count')\n",
    "plt.suptitle('Income Distribution by Age in Married_once vs. Not-Married', y=1.02)\n",
    "plt.show()"
   ]
  },
  {
   "cell_type": "markdown",
   "metadata": {},
   "source": [
    "#### Income Distribution of Age by Marital Status"
   ]
  },
  {
   "cell_type": "markdown",
   "metadata": {},
   "source": [
    "Here we show the income distribution by age for both not married and married groups. We can see that there is \n",
    "a much greater count of people making below 50K in the not married category mainly in the 20-40 age range. In the\n",
    "group that has married once we can see that there is a much greater amount of people who make above 50K and a \n",
    "smaller proportion of people who make less than 50K. What's interesting is that the graph for not married is \n",
    "right skewed but the married once graph looks more normal. The right skew may be caused by the fact that younger\n",
    "people are less likely to be married and a person's general income rises as they grow older."
   ]
  },
  {
   "cell_type": "markdown",
   "metadata": {},
   "source": [
    "#### Chi-Square Test"
   ]
  },
  {
   "cell_type": "code",
   "execution_count": 322,
   "metadata": {},
   "outputs": [
    {
     "name": "stdout",
     "output_type": "stream",
     "text": [
      "Chi-squared statistic: 4615.725543186052\n",
      "P-value: 0.0\n",
      "Degrees of freedom: 1\n",
      "There is a statistical difference. p =  0.0\n"
     ]
    }
   ],
   "source": [
    "#perform test\n",
    "contingency_table = pd.crosstab(df_marital['marital-status'], df_marital['income-over-50k'])\n",
    "chi2_stat, p_value, dof, expected = chi2_contingency(contingency_table)\n",
    "\n",
    "#print results\n",
    "print(f'Chi-squared statistic: {chi2_stat}')\n",
    "print(f'P-value: {p_value}')\n",
    "print(f'Degrees of freedom: {dof}')\n",
    "\n",
    "#interpret resutls\n",
    "if (p_value < 0.01): \n",
    "    print(\"There is a statistical difference. p = \", p_value)\n",
    "else: \n",
    "    print(\"There is no statistical difference. p = \", p_value)"
   ]
  },
  {
   "cell_type": "markdown",
   "metadata": {},
   "source": [
    "# Ethics & Privacy"
   ]
  },
  {
   "cell_type": "markdown",
   "metadata": {},
   "source": [
    "Ensuring ethical and privacy considerations are central to our project, given that it handles sensitive demographic data. Privacy concerns would be addressed by ensuring that the dataset is anonymized. \n",
    "\n",
    "Additionally, participants would have their identities protected from those handling the data. Working with this data we need to adhere to ethical guidelines and ensure to obtain any necessary permissions to use the data. \n",
    "\n",
    "We acknowledge the potential for biases in the dataset, which could arise from factors such as data collection methods and sources (especially given the size of our dataset in proportion to all workers in the US). \n",
    "\n",
    "Further, our analysis will be conducted with sensitivity to potential biases and inequalities especially in income, race, and gender. We remain vigilant to additional ethical concerns, committed to equitable impact, and ready to implement corrective measures as needed to uphold the highest standards of ethics and privacy. \n",
    "\n",
    "Moreover, we acknowledge that there are possible unintended consequences of our study such as reinforcement of stereotypes. Our findings could unintentionally reinforce some stereotypes if they are interpreted without the context. To mitigate this, we aim to provide comprehensive analysis and nuanced reporting that emphasize the complex interplay of socioeconomic factors."
   ]
  },
  {
   "cell_type": "markdown",
   "metadata": {},
   "source": [
    "# Team Expectations "
   ]
  },
  {
   "cell_type": "markdown",
   "metadata": {},
   "source": [
    "* Communicate via text group chat to coordinate meetings\n",
    "* Show up to planned meetings and/or communicate necessary absences in advance\n",
    "* Complete tasks assigned to each team member\n",
    "* Conflict resolution through open and respectful communication\n",
    "* Communicate when struggling with tasks to ensure completion"
   ]
  },
  {
   "cell_type": "markdown",
   "metadata": {},
   "source": [
    "# Project Timeline Proposal"
   ]
  },
  {
   "cell_type": "markdown",
   "metadata": {},
   "source": [
    "| Meeting Date  | Meeting Time| Completed Before Meeting  | Discuss at Meeting |\n",
    "|---|---|---|---|\n",
    "| 11/27  | 12 PM  | Finalize wrangling/EDA; Begin Analysis (Lillian, Nessa, Ethan) | Discuss/edit Analysis; Complete project check-in |\n",
    "| 12/4  | 12 PM  | Complete analysis; Draft results/conclusion/discussion (Romir, Bruce)| Discuss/edit full project |\n",
    "| 12/7  | Before 11:59 PM  | NA | Turn in Final Project & Group Project Surveys |"
   ]
  }
 ],
 "metadata": {
  "kernelspec": {
   "display_name": "myenv3",
   "language": "python",
   "name": "myenv3"
  },
  "language_info": {
   "codemirror_mode": {
    "name": "ipython",
    "version": 3
   },
   "file_extension": ".py",
   "mimetype": "text/x-python",
   "name": "python",
   "nbconvert_exporter": "python",
   "pygments_lexer": "ipython3",
   "version": "3.10.6"
  }
 },
 "nbformat": 4,
 "nbformat_minor": 2
}
