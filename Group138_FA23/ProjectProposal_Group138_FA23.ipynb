{
 "cells": [
  {
   "cell_type": "markdown",
   "metadata": {},
   "source": [
    "# COGS 108 - Project Proposal"
   ]
  },
  {
   "cell_type": "markdown",
   "metadata": {},
   "source": [
    "# Names\n",
    "\n",
    "- Nessa Pantfoerder\n",
    "- Lillian Ho\n",
    "- Chi Cheng\n",
    "- Romir Kant\n",
    "- Xiangjun Fu"
   ]
  },
  {
   "cell_type": "markdown",
   "metadata": {},
   "source": [
    "# Research Question"
   ]
  },
  {
   "cell_type": "markdown",
   "metadata": {},
   "source": [
    "Is there a relationship between demographic characteristics, such as education level, work class, occupation, marital status, and gender, and an individual's likelihood of earning an annual income over $50,000 in the United States? What specific factors have the greatest impact on one's earnings?\n"
   ]
  },
  {
   "cell_type": "markdown",
   "metadata": {},
   "source": [
    "## Background and Prior Work"
   ]
  },
  {
   "cell_type": "markdown",
   "metadata": {},
   "source": [
    "Income equality is a critical issue in society, impacting the quality of life and well-being for many. Various factors, such as education level, occupation, and gender, contribute to these differences in income,  For example, in 2022, the median weekly earnings for those who attained higher education, specifically doctoral and professional degrees, were triple of those who had less than a high school diploma<a name=\"cite_ref-1\"></a>[<sup>1</sup>](#cite_note-1). Additionally, occupation plays an important role, with some roles offering higher salaries than others<a name=\"cite_ref-2\"></a>[<sup>2</sup>](#cite_note-2). Gender, as well as marital status, has been shown to play a factor in pay. In 2022, a Pew Research study found that American women were found to earn 82 cents for every dollar earned by American men<a name=\"cite_ref-3\"></a>[<sup>3</sup>](#cite_note-3). It is essential to better understand what these factors are in order to impose policies to counter this inequality. \n",
    "\n",
    "Similar work has been conducted to explore the relationship between various demographic characteristics and income levels. Laxmi Kumari, a graduate student at UTDallas, collected income census data, did an EDA, and built a feature engineering model to predict income<a name=\"cite_ref-4\"></a>[<sup>4</sup>](#cite_note-4). Her work revealed that factors, such as the number of years of education, capital gain, age, and hours per week, played an important role in predicting one’s income. \n",
    "\n",
    "In this project, we hope to build upon this prior work by investigating the impact of specific factors, such as education level and length, work class (private vs. self-employed), occupation, marital status, and gender on an individual’s income. To accomplish this, we plan on using one of the datasets available on UCI’s Machine Learning Repository and conducting an analysis of these factors and their effects on income. \n",
    "\n",
    "1. <a name=\"cite_note-1\"></a> [^](#cite_ref-1)  https://www.bls.gov/careeroutlook/2023/data-on-display/education-pays.htm \n",
    "2. <a name=\"cite_note-2\"></a> [^](#cite_ref-2) https://www.bls.gov/oes/current/oes_ca.htm \n",
    "3. <a name=\"cite_note-3\"></a> [^](#cite_ref-3) https://www.pewresearch.org/social-trends/2023/03/01/the-enduring-grip-of-the-gender-pay-gap/ \n",
    "4. <a name=\"cite_note-4\"></a> [^](#cite_ref-4) https://medium.com/@laxmisingh7690/income-classification-data-science-project-guide-2-f57d49285a4b \n",
    "\n"
   ]
  },
  {
   "cell_type": "markdown",
   "metadata": {},
   "source": [
    "# Hypothesis\n"
   ]
  },
  {
   "cell_type": "markdown",
   "metadata": {},
   "source": [
    "\n",
    "Our main hypothesis is that you will be able to predict whether someone makes over $50k or not given the characteristics provided in the dataset. For example, choosing workclass we would predict that the proportion of private workers with a salary over $50k will be greater than the proportions of public workers. We can also propose that the proportion of workers with higher education that make over $50k will be higher than the proportion of workers with lower levels of education that make over $50k.\n"
   ]
  },
  {
   "cell_type": "markdown",
   "metadata": {},
   "source": [
    "# Data"
   ]
  },
  {
   "cell_type": "markdown",
   "metadata": {},
   "source": [
    "1. Explain what the **ideal** dataset you would want to answer this question. (This should include: What variables? How many observations? Who/what/how would these data be collected? How would these data be stored/organized?)\n",
    "\n",
    "The ideal dataset would contain columns of different variables such as age, workclass, education level, education length, occupation, race, gender, hours worked per week, and income. The data would ideally be collected by the US census obtaining data from everyone with a job to get a complete dataset. Ideally one observation per working class member of the US (over 100 million).\n",
    "\n",
    "1. Search for potential **real** datasets that could provide you with something useful for this project.  You do not have to find every piece of data you will use, but you do need to have demonstrated some idea that (a) this data is gettable and (b) that this data may be different from what your ideal is\n",
    "\n",
    "We found the dataset first before coming up with the project question to make sure that our proposal is valid.\n",
    "Dataset: https://archive.ics.uci.edu/static/public/2/data.csv\n"
   ]
  },
  {
   "cell_type": "markdown",
   "metadata": {},
   "source": [
    "# Ethics & Privacy"
   ]
  },
  {
   "cell_type": "markdown",
   "metadata": {},
   "source": [
    "Ensuring ethical and privacy considerations are central to our project, given that it handles sensitive demographic data. Privacy concerns would be addressed by ensuring that the dataset is anonymized. Additionally, participants would have their identities protected from those handling the data. Working with this data we need to adhere to ethical guidelines and ensure to obtain any necessary permissions to use the data. We acknowledge the potential for biases in the dataset, which could arise from factors such as data collection methods and sources (especially given the size of our dataset in proportion to all workers in the US). Further, our analysis will be conducted with sensitivity to potential biases and inequalities especially in income, race, and gender.We remain vigilant to additional ethical concerns, committed to equitable impact, and ready to implement corrective measures as needed to uphold the highest standards of ethics and privacy."
   ]
  },
  {
   "cell_type": "markdown",
   "metadata": {},
   "source": [
    "# Team Expectations "
   ]
  },
  {
   "cell_type": "markdown",
   "metadata": {},
   "source": [
    "* Communicate via text group chat to coordinate meetings\n",
    "* Show up to planned meetings and/or communicate necessary absences in advance\n",
    "* Complete tasks assigned to each team member\n",
    "* Conflict resolution through open and respectful communication\n",
    "* Communicate when struggling with tasks to ensure completion\n"
   ]
  },
  {
   "cell_type": "markdown",
   "metadata": {},
   "source": [
    "# Project Timeline Proposal"
   ]
  },
  {
   "cell_type": "markdown",
   "metadata": {},
   "source": [
    "Specify your team's specific project timeline. An example timeline has been provided. Changes the dates, times, names, and details to fit your group's plan.\n",
    "\n",
    "If you think you will need any special resources or training outside what we have covered in COGS 108 to solve your problem, then your proposal should state these clearly. For example, if you have selected a problem that involves implementing multiple neural networks, please state this so we can make sure you know what you’re doing and so we can point you to resources you will need to implement your project. Note that you are not required to use outside methods.\n",
    "\n",
    "\n",
    "\n",
    "| Meeting Date  | Meeting Time| Completed Before Meeting  | Discuss at Meeting |\n",
    "|---|---|---|---|\n",
    "| 10/31  |  1 PM | Read & Think about COGS 108 expectations; brainstorm topics/questions  | Determine best form of communication; Discuss and decide on final project topic; discuss hypothesis; begin background research | \n",
    "| 11/1  |  10 AM |  Do background research on topic | Discuss ideal dataset(s) and ethics; draft project proposal | \n",
    "| 11/1  | 10 AM  | Edit, finalize, and submit proposal; Search for datasets  | Discuss Wrangling and possible analytical approaches; Assign group members to lead each specific part   |\n",
    "| 11/13  | 6 PM  | Import & Wrangle Data (Ethan); EDA (Nessa, Ethan) | Review/Edit wrangling/EDA; Discuss Analysis Plan   |\n",
    "| 11/27  | 12 PM  | Finalize wrangling/EDA; Begin Analysis (Lillian, Nessa, Ethan) | Discuss/edit Analysis; Complete project check-in |\n",
    "| 12/4  | 12 PM  | Complete analysis; Draft results/conclusion/discussion (Romir, Bruce)| Discuss/edit full project |\n",
    "| 12/7  | Before 11:59 PM  | NA | Turn in Final Project & Group Project Surveys |"
   ]
  }
 ],
 "metadata": {
  "kernelspec": {
   "display_name": "Python 3 (ipykernel)",
   "language": "python",
   "name": "python3"
  },
  "language_info": {
   "codemirror_mode": {
    "name": "ipython",
    "version": 3
   },
   "file_extension": ".py",
   "mimetype": "text/x-python",
   "name": "python",
   "nbconvert_exporter": "python",
   "pygments_lexer": "ipython3",
   "version": "3.11.5"
  }
 },
 "nbformat": 4,
 "nbformat_minor": 2
}
