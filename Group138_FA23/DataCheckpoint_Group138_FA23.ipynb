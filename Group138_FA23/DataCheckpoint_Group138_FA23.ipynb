{
 "cells": [
  {
   "cell_type": "markdown",
   "metadata": {},
   "source": [
    "**If you lost points on the last checkpoint you can get them back by responding to TA/IA feedback**  \n",
    "\n",
    "Update/change the relevant sections where you lost those points, make sure you respond on GitHub Issues to your TA/IA to call their attention to the changes you made here.\n",
    "\n",
    "**Issues Fixed**\n",
    "- Research question hypothesis added for each factor\n",
    "- Added further explanation for data by specifying the size and relevant variables of our dataset\n",
    "- Elaborated on our ethics by expanding on unexpected consequences such as reinforcement of stereotypes and how we could work on to prevent them from happening\n",
    "- Updated our hypothesis to expand on the rationale and describe what results we hope to see from our dataset in more detail and fixed formatting\n",
    "- Added sources from peer-reviewed scientific journals relating to our topic to the prior work and background section and used APA style citation\n",
    "\n",
    "Please update your Timeline... no battle plan survives contact with the enemy, so make sure we understand how your plans have changed."
   ]
  },
  {
   "cell_type": "markdown",
   "metadata": {},
   "source": []
  },
  {
   "cell_type": "markdown",
   "metadata": {},
   "source": [
    "# COGS 108 - Data Checkpoint"
   ]
  },
  {
   "cell_type": "markdown",
   "metadata": {},
   "source": [
    "# Names\n",
    "\n",
    "- Nessa Pantfoerder\n",
    "- Lillian Ho\n",
    "- Chi Cheng\n",
    "- Romir Kant\n",
    "- Xiangjun Fu"
   ]
  },
  {
   "cell_type": "markdown",
   "metadata": {},
   "source": [
    "# Research Question"
   ]
  },
  {
   "cell_type": "markdown",
   "metadata": {},
   "source": [
    "Is there a relationship between demographic characteristics, such as education level, work class, occupation, and marital status, and an individual's likelihood of earning an annual income over $50,000 in the United States? What specific factors have the greatest impact on one's earnings?\n",
    "\n",
    "We start with the premise that educational attainment plays a significant role, anticipating that individuals with higher education levels tend to earn more, suggesting a positive correlation. \n",
    "\n",
    "For work class, our focus narrows to the two predominant groups in our dataset: private sector and government employees. Here, we hypothesize that those in the private sector generally outearn their government counterparts.\n",
    "\n",
    "Occupation-wise, we divide our dataset into clerical and non-clerical roles, with an underlying assumption that clerical, or office-based, workers have higher average incomes compared to those in blue-collar jobs. \n",
    "\n",
    "Additionally, marital status is considered a potential influencer, where we speculate that individuals who are, or have been, married are more likely to have an income exceeding $50,000 annually than their single peers."
   ]
  },
  {
   "cell_type": "markdown",
   "metadata": {},
   "source": [
    "# Background and Prior Work"
   ]
  },
  {
   "cell_type": "markdown",
   "metadata": {},
   "source": [
    "Income equality is a critical issue in society, impacting the quality of life and well-being of many individuals. Various factors, such as education level, occupation, gender, and marital status can contribute to these differences in income. For instance, in 2022, individuals with doctoral and professional degrees earned three times more per week than those with less than a high school diploma.<a name=\"cite_ref-1\"></a>[<sup>1</sup>](#cite_note-1) Occupation type also plays a pivotal role, with some roles offering higher salaries than others.<a name=\"cite_ref-2\"></a>[<sup>2</sup>](#cite_note-2) Gender has been shown to play a factor in pay. In 2022, a Pew Research study found that American women were found to earn 82 cents for every dollar earned by American men.<a name=\"cite_ref-3\"></a>[<sup>3</sup>](#cite_note-3) It is essential to better understand what these factors are to impose policies to counter this inequality. \n",
    "\n",
    "Research in this field has explored the relationship between various demographic characteristics and income levels. Christopher Tamborini, Changhwan Kim, and Arthur Sakamoto explored the association between education and income in one of their works, “Education and Lifetime Earnings in the United States”. They used data from the Survey of Income and Program Participation (SIPP) 2004 matched to the Detailed Earnings Record (DER) constructed by the Social Security Administration (SSA) and utilized regression analysis to estimate the net effect of college education on long-term earnings. This revealed a positive correlation between education and lifetime earnings, as well as a gap, implying the differences in earnings based on educational attainment. The results also provided insight into gender differences in lifetime earnings, demonstrating that men consistently earned more than women across all educational levels.<a name=\"cite_ref-4\"></a>[<sup>4</sup>](#cite_note-4) \n",
    "\n",
    "Similarly, Esteban Ortiz-Ospina and Max Roser contributed to understanding income, job, and wealth inequality between men and women in “Economic Inequality by Gender”. Through the analysis of data presented by various sources, including the United Nation’s International Labor Organization (ILO), as well as through a review of relevant research on these inequalities, they found that men tend to earn more than women in all regions of the world. Their analysis also revealed the underrepresentation of women in senior positions within firms.<a name=\"cite_ref-5\"></a>[<sup>5</sup>](#cite_note-5)\n",
    "\n",
    "We hope to build upon this prior work by investigating the impact of specific factors, such as education level and length, work class (private vs. self-employed), occupation, marital status, and gender on an individual’s income. Specifically, we aim to determine whether or not specific factors impact one’s likelihood of earning an annual income exceeding $50,000. To accomplish this, we plan on using one of the datasets available on UCI’s Machine Learning Repository and conducting an analysis of these factors and their effects on income. \n",
    "\n",
    "1. <a name=\"cite_note-1\"></a> [^](#cite_ref-1) U.S. Bureau of Labor Statistics. (2023, May). Education Pays, 2022. U.S. Bureau of Labor Statistics. https://www.bls.gov/careeroutlook/2023/data-on-display/education-pays.htm \n",
    "2. <a name=\"cite_note-2\"></a> [^](#cite_ref-2) U.S. Bureau of Labor Statistics. (2023, April 25). May 2022 OEWS State Occupational Employment and Wage Estimates. U.S. Bureau of Labor Statistics. https://www.bls.gov/oes/current/oes_ca.htm\n",
    "3. <a name=\"cite_note-3\"></a> [^](#cite_ref-3) Kochhar, R. (2023, March 1). The Enduring Grip of the Gender Pay Gap. Pew Research Center’s Social & Demographic Trends Project. https://www.pewresearch.org/social-trends/2023/03/01/the-enduring-grip-of-the-gender-pay-gap/\n",
    "4. <a name=\"cite_note-4\"></a> [^](#cite_ref-4) Tamborini, C. R., Kim, C., & Sakamoto, A. (2015). Education and Lifetime Earnings in the United States. Demography, 52(4), 1383–1407. https://doi.org/10.1007/s13524-015-0407-0 \n",
    "5. <a name=\"cite_note-5\"></a> [^](#cite_ref-5) Ortiz-Ospina, E., & Roser, M. (2019). Economic Inequality by Gender. Retrieved from https://ourworldindata.org/economic-inequality-by-gender\n",
    "\n",
    "\n"
   ]
  },
  {
   "cell_type": "markdown",
   "metadata": {},
   "source": [
    "# Hypothesis\n"
   ]
  },
  {
   "cell_type": "markdown",
   "metadata": {},
   "source": [
    "Our main hypothesis is focused on predicting if a person makes more than 50k annual income or less given the characteristics from our dataset, such as marital status, education level, type of work, and the individual’s gender. \n",
    "\n",
    "The rationale for analyzing these factors in order to determine how much income a person makes comes from observing common trends, such as people with higher education levels tending to make more money, people working in the private sector generally having higher earning potential, and also analyzing the relationship with an individual’s gender. \n",
    "\n",
    "We anticipate there will be a positive correlation between income and these factors provided from trends already observed in history, and by testing this hypothesis, we hope to determine a person’s rough annual income given their personal characteristics and how it correlates with the factors in our dataset to validate our hypothesis. \n"
   ]
  },
  {
   "cell_type": "markdown",
   "metadata": {},
   "source": [
    "# Data"
   ]
  },
  {
   "cell_type": "markdown",
   "metadata": {},
   "source": [
    "## Data overview\n",
    "\n",
    "For each dataset include the following information\n",
    "- Dataset #1\n",
    "  - Dataset Name: Adult\n",
    "  - Link to the dataset: https://archive.ics.uci.edu/static/public/2/data.csv\n",
    "  - Number of observations: 48842\n",
    "  - Number of variables: 15\n",
    "\n",
    "Our dataset captures demographic information, sourced from the U.S. census, with the primary goal of predicting income levels. Key variables include age (integer), workclass (categorical, representing employment status), education (categorical, denoting education level), marital status (categorical), occupation (categorical, with missing values), relationship (categorical), race (categorical), sex (binary), hours worked per week (integer), native country (categorical, with missing values), and the target variable income (binary).\n",
    "\n",
    "To prepare our dataset for analysis, we will need to address missing values in \"workclass,\" \"occupation,\" and \"native-country\" through imputation or removal of affected rows. We can also drop columns that aren’t essential such as “fnlwgt”, “capital-gain”, and “capital-loss”. We can also encode categorical variables, deal with potential outliers, and scale numerical features to further help optimize the dataset for exploring relationships between demographic characteristics and an individual's likelihood of earning over $50k annually.\n"
   ]
  },
  {
   "cell_type": "markdown",
   "metadata": {},
   "source": [
    "## Dataset adult_data.csv"
   ]
  },
  {
   "cell_type": "code",
   "execution_count": 42,
   "metadata": {},
   "outputs": [
    {
     "data": {
      "text/html": [
       "<div>\n",
       "<style scoped>\n",
       "    .dataframe tbody tr th:only-of-type {\n",
       "        vertical-align: middle;\n",
       "    }\n",
       "\n",
       "    .dataframe tbody tr th {\n",
       "        vertical-align: top;\n",
       "    }\n",
       "\n",
       "    .dataframe thead th {\n",
       "        text-align: right;\n",
       "    }\n",
       "</style>\n",
       "<table border=\"1\" class=\"dataframe\">\n",
       "  <thead>\n",
       "    <tr style=\"text-align: right;\">\n",
       "      <th></th>\n",
       "      <th>age</th>\n",
       "      <th>workclass</th>\n",
       "      <th>fnlwgt</th>\n",
       "      <th>education</th>\n",
       "      <th>education-num</th>\n",
       "      <th>marital-status</th>\n",
       "      <th>occupation</th>\n",
       "      <th>relationship</th>\n",
       "      <th>race</th>\n",
       "      <th>sex</th>\n",
       "      <th>capital-gain</th>\n",
       "      <th>capital-loss</th>\n",
       "      <th>hours-per-week</th>\n",
       "      <th>native-country</th>\n",
       "      <th>income</th>\n",
       "    </tr>\n",
       "  </thead>\n",
       "  <tbody>\n",
       "    <tr>\n",
       "      <th>0</th>\n",
       "      <td>39</td>\n",
       "      <td>State-gov</td>\n",
       "      <td>77516</td>\n",
       "      <td>Bachelors</td>\n",
       "      <td>13</td>\n",
       "      <td>Never-married</td>\n",
       "      <td>Adm-clerical</td>\n",
       "      <td>Not-in-family</td>\n",
       "      <td>White</td>\n",
       "      <td>Male</td>\n",
       "      <td>2174</td>\n",
       "      <td>0</td>\n",
       "      <td>40</td>\n",
       "      <td>United-States</td>\n",
       "      <td>&lt;=50K</td>\n",
       "    </tr>\n",
       "    <tr>\n",
       "      <th>1</th>\n",
       "      <td>50</td>\n",
       "      <td>Self-emp-not-inc</td>\n",
       "      <td>83311</td>\n",
       "      <td>Bachelors</td>\n",
       "      <td>13</td>\n",
       "      <td>Married-civ-spouse</td>\n",
       "      <td>Exec-managerial</td>\n",
       "      <td>Husband</td>\n",
       "      <td>White</td>\n",
       "      <td>Male</td>\n",
       "      <td>0</td>\n",
       "      <td>0</td>\n",
       "      <td>13</td>\n",
       "      <td>United-States</td>\n",
       "      <td>&lt;=50K</td>\n",
       "    </tr>\n",
       "    <tr>\n",
       "      <th>2</th>\n",
       "      <td>38</td>\n",
       "      <td>Private</td>\n",
       "      <td>215646</td>\n",
       "      <td>HS-grad</td>\n",
       "      <td>9</td>\n",
       "      <td>Divorced</td>\n",
       "      <td>Handlers-cleaners</td>\n",
       "      <td>Not-in-family</td>\n",
       "      <td>White</td>\n",
       "      <td>Male</td>\n",
       "      <td>0</td>\n",
       "      <td>0</td>\n",
       "      <td>40</td>\n",
       "      <td>United-States</td>\n",
       "      <td>&lt;=50K</td>\n",
       "    </tr>\n",
       "    <tr>\n",
       "      <th>3</th>\n",
       "      <td>53</td>\n",
       "      <td>Private</td>\n",
       "      <td>234721</td>\n",
       "      <td>11th</td>\n",
       "      <td>7</td>\n",
       "      <td>Married-civ-spouse</td>\n",
       "      <td>Handlers-cleaners</td>\n",
       "      <td>Husband</td>\n",
       "      <td>Black</td>\n",
       "      <td>Male</td>\n",
       "      <td>0</td>\n",
       "      <td>0</td>\n",
       "      <td>40</td>\n",
       "      <td>United-States</td>\n",
       "      <td>&lt;=50K</td>\n",
       "    </tr>\n",
       "    <tr>\n",
       "      <th>4</th>\n",
       "      <td>28</td>\n",
       "      <td>Private</td>\n",
       "      <td>338409</td>\n",
       "      <td>Bachelors</td>\n",
       "      <td>13</td>\n",
       "      <td>Married-civ-spouse</td>\n",
       "      <td>Prof-specialty</td>\n",
       "      <td>Wife</td>\n",
       "      <td>Black</td>\n",
       "      <td>Female</td>\n",
       "      <td>0</td>\n",
       "      <td>0</td>\n",
       "      <td>40</td>\n",
       "      <td>Cuba</td>\n",
       "      <td>&lt;=50K</td>\n",
       "    </tr>\n",
       "  </tbody>\n",
       "</table>\n",
       "</div>"
      ],
      "text/plain": [
       "   age         workclass  fnlwgt  education  education-num  \\\n",
       "0   39         State-gov   77516  Bachelors             13   \n",
       "1   50  Self-emp-not-inc   83311  Bachelors             13   \n",
       "2   38           Private  215646    HS-grad              9   \n",
       "3   53           Private  234721       11th              7   \n",
       "4   28           Private  338409  Bachelors             13   \n",
       "\n",
       "       marital-status         occupation   relationship   race     sex  \\\n",
       "0       Never-married       Adm-clerical  Not-in-family  White    Male   \n",
       "1  Married-civ-spouse    Exec-managerial        Husband  White    Male   \n",
       "2            Divorced  Handlers-cleaners  Not-in-family  White    Male   \n",
       "3  Married-civ-spouse  Handlers-cleaners        Husband  Black    Male   \n",
       "4  Married-civ-spouse     Prof-specialty           Wife  Black  Female   \n",
       "\n",
       "   capital-gain  capital-loss  hours-per-week native-country income  \n",
       "0          2174             0              40  United-States  <=50K  \n",
       "1             0             0              13  United-States  <=50K  \n",
       "2             0             0              40  United-States  <=50K  \n",
       "3             0             0              40  United-States  <=50K  \n",
       "4             0             0              40           Cuba  <=50K  "
      ]
     },
     "execution_count": 42,
     "metadata": {},
     "output_type": "execute_result"
    }
   ],
   "source": [
    "import pandas as pd\n",
    "import numpy as np\n",
    "\n",
    "df = pd.read_csv(\"https://archive.ics.uci.edu/static/public/2/data.csv\")\n",
    "\n",
    "df.head()"
   ]
  },
  {
   "cell_type": "code",
   "execution_count": 43,
   "metadata": {},
   "outputs": [],
   "source": [
    "df.dropna(axis='rows', inplace=True)\n",
    "\n",
    "df = df.replace('?', np.nan).dropna(axis='rows', how ='any') # Drop rows containing a '?' value\n",
    "\n",
    "df = df.drop(columns=['fnlwgt', 'capital-gain', 'capital-loss']) # Drop columns that are not needed"
   ]
  },
  {
   "cell_type": "code",
   "execution_count": 44,
   "metadata": {},
   "outputs": [
    {
     "data": {
      "text/html": [
       "<div>\n",
       "<style scoped>\n",
       "    .dataframe tbody tr th:only-of-type {\n",
       "        vertical-align: middle;\n",
       "    }\n",
       "\n",
       "    .dataframe tbody tr th {\n",
       "        vertical-align: top;\n",
       "    }\n",
       "\n",
       "    .dataframe thead th {\n",
       "        text-align: right;\n",
       "    }\n",
       "</style>\n",
       "<table border=\"1\" class=\"dataframe\">\n",
       "  <thead>\n",
       "    <tr style=\"text-align: right;\">\n",
       "      <th></th>\n",
       "      <th>age</th>\n",
       "      <th>workclass</th>\n",
       "      <th>education</th>\n",
       "      <th>education-num</th>\n",
       "      <th>marital-status</th>\n",
       "      <th>occupation</th>\n",
       "      <th>relationship</th>\n",
       "      <th>race</th>\n",
       "      <th>sex</th>\n",
       "      <th>hours-per-week</th>\n",
       "      <th>native-country</th>\n",
       "      <th>income-over-50k</th>\n",
       "    </tr>\n",
       "  </thead>\n",
       "  <tbody>\n",
       "    <tr>\n",
       "      <th>0</th>\n",
       "      <td>39</td>\n",
       "      <td>State-gov</td>\n",
       "      <td>Bachelors</td>\n",
       "      <td>13</td>\n",
       "      <td>Never-married</td>\n",
       "      <td>Adm-clerical</td>\n",
       "      <td>Not-in-family</td>\n",
       "      <td>White</td>\n",
       "      <td>Male</td>\n",
       "      <td>40</td>\n",
       "      <td>United-States</td>\n",
       "      <td>0</td>\n",
       "    </tr>\n",
       "    <tr>\n",
       "      <th>1</th>\n",
       "      <td>50</td>\n",
       "      <td>Self-emp-not-inc</td>\n",
       "      <td>Bachelors</td>\n",
       "      <td>13</td>\n",
       "      <td>Married-civ-spouse</td>\n",
       "      <td>Exec-managerial</td>\n",
       "      <td>Husband</td>\n",
       "      <td>White</td>\n",
       "      <td>Male</td>\n",
       "      <td>13</td>\n",
       "      <td>United-States</td>\n",
       "      <td>0</td>\n",
       "    </tr>\n",
       "    <tr>\n",
       "      <th>2</th>\n",
       "      <td>38</td>\n",
       "      <td>Private</td>\n",
       "      <td>HS-grad</td>\n",
       "      <td>9</td>\n",
       "      <td>Divorced</td>\n",
       "      <td>Handlers-cleaners</td>\n",
       "      <td>Not-in-family</td>\n",
       "      <td>White</td>\n",
       "      <td>Male</td>\n",
       "      <td>40</td>\n",
       "      <td>United-States</td>\n",
       "      <td>0</td>\n",
       "    </tr>\n",
       "    <tr>\n",
       "      <th>3</th>\n",
       "      <td>53</td>\n",
       "      <td>Private</td>\n",
       "      <td>11th</td>\n",
       "      <td>7</td>\n",
       "      <td>Married-civ-spouse</td>\n",
       "      <td>Handlers-cleaners</td>\n",
       "      <td>Husband</td>\n",
       "      <td>Black</td>\n",
       "      <td>Male</td>\n",
       "      <td>40</td>\n",
       "      <td>United-States</td>\n",
       "      <td>0</td>\n",
       "    </tr>\n",
       "    <tr>\n",
       "      <th>4</th>\n",
       "      <td>28</td>\n",
       "      <td>Private</td>\n",
       "      <td>Bachelors</td>\n",
       "      <td>13</td>\n",
       "      <td>Married-civ-spouse</td>\n",
       "      <td>Prof-specialty</td>\n",
       "      <td>Wife</td>\n",
       "      <td>Black</td>\n",
       "      <td>Female</td>\n",
       "      <td>40</td>\n",
       "      <td>Cuba</td>\n",
       "      <td>0</td>\n",
       "    </tr>\n",
       "  </tbody>\n",
       "</table>\n",
       "</div>"
      ],
      "text/plain": [
       "   age         workclass  education  education-num      marital-status  \\\n",
       "0   39         State-gov  Bachelors             13       Never-married   \n",
       "1   50  Self-emp-not-inc  Bachelors             13  Married-civ-spouse   \n",
       "2   38           Private    HS-grad              9            Divorced   \n",
       "3   53           Private       11th              7  Married-civ-spouse   \n",
       "4   28           Private  Bachelors             13  Married-civ-spouse   \n",
       "\n",
       "          occupation   relationship   race     sex  hours-per-week  \\\n",
       "0       Adm-clerical  Not-in-family  White    Male              40   \n",
       "1    Exec-managerial        Husband  White    Male              13   \n",
       "2  Handlers-cleaners  Not-in-family  White    Male              40   \n",
       "3  Handlers-cleaners        Husband  Black    Male              40   \n",
       "4     Prof-specialty           Wife  Black  Female              40   \n",
       "\n",
       "  native-country  income-over-50k  \n",
       "0  United-States                0  \n",
       "1  United-States                0  \n",
       "2  United-States                0  \n",
       "3  United-States                0  \n",
       "4           Cuba                0  "
      ]
     },
     "execution_count": 44,
     "metadata": {},
     "output_type": "execute_result"
    }
   ],
   "source": [
    "df[\"income\"] = df[\"income\"].replace({\"<=50K\": 0, \">50K\": 1, \"<=50K.\": 0, \">50K.\": 1}) # Replace income values with 0 and 1\n",
    "\n",
    "df.rename(columns={'income': 'income-over-50k'}, inplace=True) # Rename income column so that it is more descriptive\n",
    "\n",
    "df.head()"
   ]
  },
  {
   "cell_type": "markdown",
   "metadata": {},
   "source": [
    "# Ethics & Privacy"
   ]
  },
  {
   "cell_type": "markdown",
   "metadata": {},
   "source": [
    "Ensuring ethical and privacy considerations are central to our project, given that it handles sensitive demographic data. Privacy concerns would be addressed by ensuring that the dataset is anonymized. \n",
    "\n",
    "Additionally, participants would have their identities protected from those handling the data. Working with this data we need to adhere to ethical guidelines and ensure to obtain any necessary permissions to use the data. \n",
    "\n",
    "We acknowledge the potential for biases in the dataset, which could arise from factors such as data collection methods and sources (especially given the size of our dataset in proportion to all workers in the US). \n",
    "\n",
    "Further, our analysis will be conducted with sensitivity to potential biases and inequalities especially in income, race, and gender. We remain vigilant to additional ethical concerns, committed to equitable impact, and ready to implement corrective measures as needed to uphold the highest standards of ethics and privacy. \n",
    "\n",
    "Moreover, we acknowledge that there are possible unintended consequences of our study such as reinforcement of stereotypes. Our findings could unintentionally reinforce some stereotypes if they are interpreted without the context. To mitigate this, we aim to provide comprehensive analysis and nuanced reporting that emphasize the complex interplay of socioeconomic factors."
   ]
  },
  {
   "cell_type": "markdown",
   "metadata": {},
   "source": [
    "# Team Expectations "
   ]
  },
  {
   "cell_type": "markdown",
   "metadata": {},
   "source": [
    "* Communicate via text group chat to coordinate meetings\n",
    "* Show up to planned meetings and/or communicate necessary absences in advance\n",
    "* Complete tasks assigned to each team member\n",
    "* Conflict resolution through open and respectful communication\n",
    "* Communicate when struggling with tasks to ensure completion"
   ]
  },
  {
   "cell_type": "markdown",
   "metadata": {},
   "source": [
    "# Project Timeline Proposal"
   ]
  },
  {
   "cell_type": "markdown",
   "metadata": {},
   "source": [
    "| Meeting Date  | Meeting Time| Completed Before Meeting  | Discuss at Meeting |\n",
    "|---|---|---|---|\n",
    "| 11/13  | 4 PM  | Import & Wrangle Data (Ethan); EDA (Nessa, Ethan) | Review/Edit wrangling/EDA; Discuss Analysis Plan   |\n",
    "| 11/27  | 4 PM  | Finalize wrangling/EDA; Begin Analysis (Lillian, Nessa, Ethan, Bruce) | Discuss/edit Analysis; Complete project check-in |\n",
    "| 12/4  | 4 PM  | Complete analysis; Draft results/conclusion/discussion (Romir, Bruce)| Discuss/edit full project |\n",
    "| 12/7  | Before 11:59 PM  | NA | Turn in Final Project & Group Project Surveys |"
   ]
  },
  {
   "cell_type": "markdown",
   "metadata": {},
   "source": []
  }
 ],
 "metadata": {
  "kernelspec": {
   "display_name": "Python 3 (ipykernel)",
   "language": "python",
   "name": "python3"
  },
  "language_info": {
   "codemirror_mode": {
    "name": "ipython",
    "version": 3
   },
   "file_extension": ".py",
   "mimetype": "text/x-python",
   "name": "python",
   "nbconvert_exporter": "python",
   "pygments_lexer": "ipython3",
   "version": "3.9.6"
  }
 },
 "nbformat": 4,
 "nbformat_minor": 2
}
